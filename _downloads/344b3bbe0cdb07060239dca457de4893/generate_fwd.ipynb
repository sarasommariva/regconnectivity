{
  "cells": [
    {
      "cell_type": "code",
      "execution_count": null,
      "metadata": {
        "collapsed": false
      },
      "outputs": [],
      "source": [
        "%matplotlib inline"
      ]
    },
    {
      "cell_type": "markdown",
      "metadata": {},
      "source": [
        "\n# Generate forward\nCompute forward and cortical distances\n"
      ]
    },
    {
      "cell_type": "code",
      "execution_count": null,
      "metadata": {
        "collapsed": false
      },
      "outputs": [],
      "source": [
        "import numpy as np\nimport os.path as op\nimport os\nimport mne\nfrom mne.datasets import sample\nfrom conpy import restrict_forward_to_vertices\ndata_path = sample.data_path()"
      ]
    },
    {
      "cell_type": "markdown",
      "metadata": {},
      "source": [
        "Additional, self-implemented function\n\n"
      ]
    },
    {
      "cell_type": "code",
      "execution_count": null,
      "metadata": {
        "collapsed": false
      },
      "outputs": [],
      "source": [
        "def labels_to_array(labels, src, type_index='python'):\n    \"\"\"Project MNE Label(s) to a given source-space and save as list of arrays\n\n    Parameters:\n    -----------\n    labels : list of Label\n        Label(s) to be projected\n    src : SourceSpaces\n        Source space\n    type_index : string ['python' | 'matlab']\n    \"\"\"\n\n    name = [lab.name for lab in labels]\n    parcels = list()\n    total_vertx = np.ones(src[0]['nuse']+src[1]['nuse'])\n\n    for lab in labels:\n        if lab.hemi == 'lh':\n            tmp_idx = np.nonzero(np.in1d(src[0]['vertno'], lab.vertices))[0]\n        elif lab.hemi == 'rh':\n            tmp_idx = src[0]['nuse'] + \\\n                np.nonzero(np.in1d(src[1]['vertno'], lab.vertices))[0]\n        parcels.append(tmp_idx)\n        total_vertx[tmp_idx] = 0\n\n    outliers = np.nonzero(total_vertx)[0]\n\n    if outliers.size > 0:\n        parcels.append(outliers)  # For consistency with flame parcels\n        name.append('Outliers')\n\n    if type_index == 'matlab':\n        parcels = map(lambda x: x+1, parcels)\n        outliers = outliers + 1\n    elif type_index == 'python':\n        pass\n    else:\n        print('Type of indeces not understood')\n\n    converted_labels = {'parcel': parcels, 'name': name,\n                        'outliers_id': outliers,\n                        'outliers': float(outliers.shape[0])}\n\n    return converted_labels"
      ]
    },
    {
      "cell_type": "markdown",
      "metadata": {},
      "source": [
        "Load data from MNE sample dataset\n\n"
      ]
    },
    {
      "cell_type": "code",
      "execution_count": null,
      "metadata": {
        "collapsed": false
      },
      "outputs": [],
      "source": [
        "subject = 'sample'\n# The raw file containing the channel location and types\nraw_fname = op.join(data_path, 'MEG', subject, 'sample_audvis_raw.fif')\n# The paths to Freesurfer reconstructions\nsubjects_dir = op.join(data_path, 'subjects')\n\ntrans = op.join(data_path, 'MEG', subject, 'sample_audvis_raw-trans.fif')\n\ninfo = mne.io.read_info(raw_fname)\n\nsrc = mne.setup_source_space(subject, spacing='oct6', add_dist='patch',\n                             subjects_dir=subjects_dir)"
      ]
    },
    {
      "cell_type": "markdown",
      "metadata": {},
      "source": [
        "Compute forward solution\n\n"
      ]
    },
    {
      "cell_type": "code",
      "execution_count": null,
      "metadata": {
        "collapsed": false
      },
      "outputs": [],
      "source": [
        "conductivity = (0.3, 0.006, 0.3)  # for three layers\nmodel = mne.make_bem_model(subject='sample', ico=4, conductivity=conductivity,\n                           subjects_dir=subjects_dir)\nbem = mne.make_bem_solution(model)\nfwd = mne.make_forward_solution(raw_fname, trans=trans, src=src, bem=bem,\n                                meg=True, eeg=False, mindist=5.0, n_jobs=1,\n                                verbose=True)"
      ]
    },
    {
      "cell_type": "markdown",
      "metadata": {},
      "source": [
        "Remove anatomical outliers from fwd model\n\n"
      ]
    },
    {
      "cell_type": "code",
      "execution_count": null,
      "metadata": {
        "collapsed": false
      },
      "outputs": [],
      "source": [
        "# Define anatomical outliers\nparc = 'aparc'\nlabel_lh = mne.read_labels_from_annot(subject=subject, parc=parc, hemi='lh',\n                                      subjects_dir=subjects_dir)\nlabel_rh = mne.read_labels_from_annot(subject=subject, parc=parc, hemi='rh',\n                                      subjects_dir=subjects_dir)\nlabel = label_lh + label_rh\n\nanat_array = labels_to_array(label, fwd['src'], type_index='python')\nanat_outliers = anat_array['outliers_id']\n\nnv_lh = fwd['src'][0]['nuse']\nout_lh = anat_outliers[np.where(anat_outliers < nv_lh)[0]]\nout_rh = anat_outliers[np.where(anat_outliers >= nv_lh)[0]] - nv_lh\n\nsel_vert_lh = np.delete(fwd['src'][0]['vertno'], out_lh)\nsel_vert_rh = np.delete(fwd['src'][1]['vertno'], out_rh)\n\nfwd_sel = restrict_forward_to_vertices(fwd, (sel_vert_lh, sel_vert_rh),\n                                       check_vertno=True, copy=True,\n                                       verbose=None)"
      ]
    },
    {
      "cell_type": "markdown",
      "metadata": {},
      "source": [
        "Set fixed orientations\n\n"
      ]
    },
    {
      "cell_type": "code",
      "execution_count": null,
      "metadata": {
        "collapsed": false
      },
      "outputs": [],
      "source": [
        "fwd_fixed = mne.convert_forward_solution(fwd_sel, surf_ori=True,\n                                         force_fixed=True, use_cps=True)"
      ]
    },
    {
      "cell_type": "markdown",
      "metadata": {},
      "source": [
        "Compute cortical distances\n\n"
      ]
    },
    {
      "cell_type": "code",
      "execution_count": null,
      "metadata": {
        "collapsed": false
      },
      "outputs": [],
      "source": [
        "src_fixed = fwd_fixed['src']\nmne.add_source_space_distances(src_fixed)\n\nlh_idx = fwd_fixed['src'][0]['vertno']\nrh_idx = fwd_fixed['src'][1]['vertno']\ncortical_dist_lh = src_fixed[0]['dist'][lh_idx, :][:, lh_idx].todense()\ncortical_dist_rh = src_fixed[1]['dist'][rh_idx, :][:, rh_idx].todense()\ncortical_dist = np.concatenate((np.concatenate((cortical_dist_lh,\n                               10*np.ones((len(lh_idx), len(rh_idx)))),\n                               axis=1), np.concatenate((10*np.ones((\n                               len(rh_idx), len(lh_idx))), cortical_dist_rh),\n                               axis=1)), axis=0)"
      ]
    },
    {
      "cell_type": "markdown",
      "metadata": {},
      "source": [
        "Save forward and cortical distances\n(uncomment if you wish to save data)\n\n"
      ]
    },
    {
      "cell_type": "code",
      "execution_count": null,
      "metadata": {
        "collapsed": false
      },
      "outputs": [],
      "source": [
        "# save_data_path = op.join('..', 'data')\n# if not op.exists(save_data_path):\n#     os.mkdir(save_data_path)\n\n# fwd_fname = op.join(save_data_path, 'oct6_fwd.fif')\n# mne.write_forward_solution(fwd_fname, fwd_fixed, overwrite=True)\n# cort_dist_fname = op.join(save_data_path, 'cortico_dist_oct6.npy')\n# np.save(cort_dist_fname, cortical_dist)"
      ]
    }
  ],
  "metadata": {
    "kernelspec": {
      "display_name": "Python 3",
      "language": "python",
      "name": "python3"
    },
    "language_info": {
      "codemirror_mode": {
        "name": "ipython",
        "version": 3
      },
      "file_extension": ".py",
      "mimetype": "text/x-python",
      "name": "python",
      "nbconvert_exporter": "python",
      "pygments_lexer": "ipython3",
      "version": "3.7.4"
    }
  },
  "nbformat": 4,
  "nbformat_minor": 0
}