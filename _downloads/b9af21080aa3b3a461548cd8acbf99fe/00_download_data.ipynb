{
  "cells": [
    {
      "cell_type": "code",
      "execution_count": null,
      "metadata": {
        "collapsed": false
      },
      "outputs": [],
      "source": [
        "%matplotlib inline"
      ]
    },
    {
      "cell_type": "markdown",
      "metadata": {},
      "source": [
        "\n# Part 1: Download data\nDownload data to run the codes used to simulate MEG data and compute the\nparameters, as it was done in the paper\n"
      ]
    },
    {
      "cell_type": "code",
      "execution_count": null,
      "metadata": {
        "collapsed": false
      },
      "outputs": [],
      "source": [
        "import mne\nimport os.path as op\nimport os\nimport pooch\n\nsubject_dir = op.join(mne.datasets.sample.data_path(), 'subjects')\nsubject = 'sample'"
      ]
    },
    {
      "cell_type": "markdown",
      "metadata": {},
      "source": [
        "Download data (if not already downloaded or generated with generate_fwd.py)\n\n"
      ]
    },
    {
      "cell_type": "code",
      "execution_count": null,
      "metadata": {
        "collapsed": false
      },
      "outputs": [],
      "source": [
        "data_path = op.join('.', 'data')\nif not op.exists(data_path):\n    os.mkdir(data_path)\n\nfname = 'cortico_dist_oct6.npy'\nif not op.exists(op.join(data_path, fname)):\n    url = 'https://osf.io/download/37kaz/?direct%26mode=render'\n\n    pooch.retrieve(url=url, known_hash=None, path=data_path, fname=fname)\n\n\nfname = 'oct6_fwd.fif'\nif not op.exists(op.join(data_path, fname)):\n    url = 'https://osf.io/download/7dfvm/?direct%26mode=render'\n\n    pooch.retrieve(url=url, known_hash=None, path=data_path, fname=fname)"
      ]
    }
  ],
  "metadata": {
    "kernelspec": {
      "display_name": "Python 3",
      "language": "python",
      "name": "python3"
    },
    "language_info": {
      "codemirror_mode": {
        "name": "ipython",
        "version": 3
      },
      "file_extension": ".py",
      "mimetype": "text/x-python",
      "name": "python",
      "nbconvert_exporter": "python",
      "pygments_lexer": "ipython3",
      "version": "3.7.4"
    }
  },
  "nbformat": 4,
  "nbformat_minor": 0
}