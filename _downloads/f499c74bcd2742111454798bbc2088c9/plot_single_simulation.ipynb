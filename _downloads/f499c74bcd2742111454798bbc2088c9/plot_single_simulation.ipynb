{
  "cells": [
    {
      "cell_type": "code",
      "execution_count": null,
      "metadata": {
        "collapsed": false
      },
      "outputs": [],
      "source": [
        "%matplotlib inline"
      ]
    },
    {
      "cell_type": "markdown",
      "metadata": {},
      "source": [
        "\n# Single simulation and parameters computation\nThis example shows how to simulate a sensor level MEG configuration and compute\noptimal parameters for neural activity and connectivity estimation\n"
      ]
    },
    {
      "cell_type": "code",
      "execution_count": null,
      "metadata": {
        "collapsed": false
      },
      "outputs": [],
      "source": [
        "import mne\nimport numpy as np\nimport math\nimport os.path as op\nimport os\nfrom scipy import optimize, signal\nimport funcs_single_sim as funcs\nimport pooch\n\nsubject_dir = op.join(mne.datasets.sample.data_path(), 'subjects')\nsubject = 'sample'"
      ]
    },
    {
      "cell_type": "markdown",
      "metadata": {},
      "source": [
        "Define customizable features\n\n"
      ]
    },
    {
      "cell_type": "code",
      "execution_count": null,
      "metadata": {
        "collapsed": false
      },
      "outputs": [],
      "source": [
        "# Standard deviation of the entries of the AR model (accepted values are:\n# ranging from 0.1 to 1)\nalpha = np.random.rand(1)*0.9+0.1\n# area of the simulated patch in cm^2 (accepted values are: 2, 4, 8)\narea = 8\n# intra coherenc of the simulated patch (accepted values are: 1, 2, 4)\nintra_coh = 1\n# sensor level SNR in dB (accepted values are: ranging from -20 to 5)\nSNR_sensors = -5\n# background activity (computed as the norm f the patches time cources over the\n# norm of the background time courses) (accepted values are: 0.1, 0.5, 0.9)\nSNR_background = 2"
      ]
    },
    {
      "cell_type": "markdown",
      "metadata": {},
      "source": [
        "Download data (if not already downloaded or generated with generate_fwd.py)\n\n"
      ]
    },
    {
      "cell_type": "code",
      "execution_count": null,
      "metadata": {
        "collapsed": false
      },
      "outputs": [],
      "source": [
        "data_path = op.join('..', 'data')\nif not op.exists(data_path):\n    os.mkdir(data_path)\n\nfname = 'cortico_dist_oct6.npy'\nif not op.exists(op.join(data_path, fname)):\n    url = 'https://osf.io/download/37kaz/?direct%26mode=render'\n\n    pooch.retrieve(url=url, known_hash=None, path=data_path, fname=fname)\n\n\nfname = 'oct6_fwd.fif'\nif not op.exists(op.join(data_path, fname)):\n    url = 'https://osf.io/download/7dfvm/?direct%26mode=render'\n\n    pooch.retrieve(url=url, known_hash=None, path=data_path, fname=fname)"
      ]
    },
    {
      "cell_type": "markdown",
      "metadata": {},
      "source": [
        "Load data\n\n"
      ]
    },
    {
      "cell_type": "code",
      "execution_count": null,
      "metadata": {
        "collapsed": false
      },
      "outputs": [],
      "source": [
        "# data path\nfwd_file = op.join(data_path, 'oct6_fwd.fif')\n\n# load data\nfwd = mne.read_forward_solution(fwd_file, verbose=False)\nfwd = mne.convert_forward_solution(fwd, surf_ori=True, force_fixed=True,\n                                   use_cps=True, verbose=False)\nfwd = mne.pick_types_forward(fwd, meg='mag', eeg=False, ref_meg=False)\n\n# leadfield matrix\nG = fwd['sol']['data']\nG = 10**5*G\nGGt = G.dot(G.T)\nU, s, V = np.linalg.svd(G)\nV = V.T\n\n# dipols position\ndip_pos = fwd['source_rr']\n\n# dipols orientations\ndip_or = fwd['source_nn']\n\n# Source space\nsrc = fwd['src']\n\n# vertex indeces\nvertno = [src[0]['vertno'], src[1]['vertno']]\n\n# load cortico-cortical distance matrix\ncortico_dist_file = op.join(data_path, 'cortico_dist_oct6.npy')\ncortico_dist = np.load(cortico_dist_file)"
      ]
    },
    {
      "cell_type": "markdown",
      "metadata": {},
      "source": [
        "Define additional features\n\n"
      ]
    },
    {
      "cell_type": "code",
      "execution_count": null,
      "metadata": {
        "collapsed": false
      },
      "outputs": [],
      "source": [
        "T = int(10000)  # Number of time points\nfs = int(128)  # Samples frequency\n\n# range for filtering the data\nfmin = 8\nfmax = 12\n\ndelta_t = 1/fs  # Time resolution\nM = G.shape[0]  # Number of sensor\nN_dense = G.shape[1]  # Number of sources in source space\nN_act = int(2)  # Number of active patches\nP = int(5)  # MVAR order\nratio_max = 1.5  # Ratio max between the intensities of the seed sources of the\n                 # active patches\n\n# store relevant features\nfeatures = {'T': T,\n            'fs': fs,\n            'fmin': fmin,\n            'fmax': fmax,\n            'N_act': N_act,\n            'SNR_sensors': SNR_sensors,\n            'area': area,\n            'intra_coh': intra_coh,\n            'SNR_backgroud': SNR_background}"
      ]
    },
    {
      "cell_type": "markdown",
      "metadata": {},
      "source": [
        "Define sources location\n\n"
      ]
    },
    {
      "cell_type": "code",
      "execution_count": null,
      "metadata": {
        "collapsed": false
      },
      "outputs": [],
      "source": [
        "# Select a pais of sources satisfying specific requirements\nseed_loc = funcs.select_sources(G, dip_pos, 1)[0]\n\n# Define patch radius from the desired area\nr = np.sqrt(area*10**(-4)/math.pi)  # radius of the patch (maximum distance\n                                    # from the seed in meters)\n\n# Define the location of the sources within the patches\np1_locs, p2_locs = funcs.gen_patches_sources(cortico_dist, r, seed_loc)"
      ]
    },
    {
      "cell_type": "markdown",
      "metadata": {},
      "source": [
        "Plot patches on the brain\n\n<div class=\"alert alert-danger\"><h4>Warning</h4><p>Note that plot perspective might not be optimal, when downloading\n    the codes plots are interavtive and perspectives can be changed.</p></div>\n\n"
      ]
    },
    {
      "cell_type": "code",
      "execution_count": null,
      "metadata": {
        "collapsed": false
      },
      "outputs": [],
      "source": [
        "view = 'axial'\nX = np.zeros((G.shape[1]))\nstc = mne.SourceEstimate(X, vertices=vertno, tmin=0, tstep=1, subject=subject)\n\nhemi = 'both'\nbrain = stc.plot(subject=subject, surface='inflated', smoothing_steps=5,\n                 hemi=hemi, subjects_dir=subject_dir, time_viewer=False,\n                 colorbar=False, views=view)\n\nnv_lh = stc.vertices[0].shape[0]\nfor idx, loc in enumerate([loc for loc in p1_locs]):\n    if loc < nv_lh:\n        brain.add_foci(stc.vertices[0][loc], coords_as_verts=True,\n                       hemi='lh', color='black', scale_factor=0.3)\n    else:\n        brain.add_foci(stc.vertices[1][loc-nv_lh], coords_as_verts=True,\n                       hemi='rh', color='black', scale_factor=0.3)\n\nnv_lh = stc.vertices[0].shape[0]\nfor idx, loc in enumerate([loc for loc in p2_locs]):\n    if loc < nv_lh:\n        brain.add_foci(stc.vertices[0][loc], coords_as_verts=True,\n                       hemi='lh', color='red', scale_factor=0.3)\n    else:\n        brain.add_foci(stc.vertices[1][loc-nv_lh], coords_as_verts=True,\n                       hemi='rh', color='red', scale_factor=0.3)\n\ntitle = 'Active patches location'\nbrain.add_text(0.1, 0.9, title, 'title', font_size=14)"
      ]
    },
    {
      "cell_type": "markdown",
      "metadata": {},
      "source": [
        "Simulate brain activity\n\n"
      ]
    },
    {
      "cell_type": "code",
      "execution_count": null,
      "metadata": {
        "collapsed": false
      },
      "outputs": [],
      "source": [
        "# Step 1: simulate a pair of MVAR time courses\n#\n# The generated time courses must satisfy two criteria:\n# 1) the ratio between the norms is lower than ratio_max\n#\n# 2) the power spectrum in the frequency range of interest is high enough\n\n\n# initialize the time courses\nseed_tc = np.zeros((N_act, T))\n\nnperseg = 256  # length of the window for the fourier transform\nnfft = nperseg  # number of frequencies\n\npower_condition = 0\nwhile power_condition == 0:\n    ratio = np.inf\n\n    # generate MVAR time courses until they meet the condition on the norm\n    while ratio > ratio_max:\n        AR_mod = funcs.gen_ar_model(N_act, P, alpha)  # generate MVAR model\n        X_act, AR_mod = funcs.gen_ar_series(AR_mod, T)  # generate MVAR time\n                                                        # courses\n        norm_X = np.linalg.norm(X_act, axis=1)  # compute norm\n        ratio = norm_X[-1]/norm_X[0]  # retain pairs of time courses whose\n                                      # intensities are close\n                                      # (int_max/int_min < ratio_max)\n\n    # normalize the time series so that different pairs have similar intensity\n    # (this was important in the paper simulation where more than one pair of\n    # time courses were simulated)\n    norm_const = np.mean(np.std(X_act, axis=1))\n    X_act = X_act/norm_const\n\n    # compute power spectrum in the freq range of interest\n    f, Pwe = signal.welch(X_act, fs=fs, window='hann', nperseg=nperseg,\n                          noverlap=nperseg//2, nfft=nfft, detrend='constant',\n                          return_onesided=True, scaling='density', axis=-1)\n    P_tot = Pwe[0, :] + Pwe[1, :]\n    f_in = np.intersect1d(np.where(f >= fmin)[0], np.where(f <= fmax)[0])\n\n    # retain only time courses with sufficiently high power in the frequency\n    # range of interest\n    if np.sum(P_tot[f_in])/len(f_in) > 1.2*np.sum(P_tot)/len(f):\n        b, a = signal.butter(3, np.array([8, 12]), btype='bandpass',\n                             analog=False, output='ba', fs=fs)\n        X_act = signal.filtfilt(b, a, X_act, axis=-1, padtype='odd',\n                                padlen=None, method='pad', irlen=None)\n        seed_tc[:, :] = X_act\n        power_condition = 1\n\n\n# Step 2: generate patch activity\n# Generate the time courses associated with the sources within the patches, so\n# that they have the desired intracoherence level.\n\np1_tcs, p2_tcs = funcs.gen_coherent_patches(seed_tc, p1_locs, p2_locs,\n                                            intra_coh, 0, nperseg, nfft, fs,\n                                            fmin, fmax)\n\n\n# Step 3: generate background activtiy (it takes a while)\n# To each source outside the patche is assigned a time course following an AR\n# model of order 5. The overall activity of the background sources is then\n# normalized to obtain the desired SNR level\n\n# locations of background sources\nbg_locs = np.setdiff1d(np.arange(N_dense), np.concatenate((p1_locs, p2_locs)))\n# generate background time courses exploiting an AR model\nbg_tcs_general = funcs.gen_background_tcs(P, len(bg_locs), T)\n\n\n# define the norm of patches and background activity to define the snr between\n# patches and bg\npatches_norm = np.linalg.norm(np.concatenate((p1_tcs, p2_tcs), axis=0),\n                              ord='fro')**2\nbg_norm_general = np.linalg.norm(bg_tcs_general, ord='fro')**2\n\n# scale background time coursed to obtain the desired snr level\nbg_tcs = bg_tcs_general*np.sqrt((patches_norm/bg_norm_general)/SNR_background)\n\n\n# Step 4: store the genarate data in a single matrix\n\nX = np.zeros((N_dense, T))\nX[bg_locs, :] = bg_tcs\nX[p1_locs, :] = p1_tcs\nX[p2_locs, :] = p2_tcs"
      ]
    },
    {
      "cell_type": "markdown",
      "metadata": {},
      "source": [
        "Generate sensor level recordings\n\n"
      ]
    },
    {
      "cell_type": "code",
      "execution_count": null,
      "metadata": {
        "collapsed": false
      },
      "outputs": [],
      "source": [
        "# generate white gaussian noise\nN_tilde = np.random.randn(M, T)\n\n# scale the noise to obtain the desired SNR\nSigma = np.sqrt(np.linalg.norm(G.dot(X), ord='fro')**2/(10**(SNR_sensors/10)\n                * np.linalg.norm(N_tilde, ord='fro')**2))\nN = Sigma*N_tilde\n\n# generate sensor level recordings\nY = G.dot(X)+N"
      ]
    },
    {
      "cell_type": "markdown",
      "metadata": {},
      "source": [
        "Store the generated data\n\n"
      ]
    },
    {
      "cell_type": "code",
      "execution_count": null,
      "metadata": {
        "collapsed": false
      },
      "outputs": [],
      "source": [
        "data = {}\ndata['X'] = X\ndata['Y'] = Y\ndata['sees_loc'] = seed_loc"
      ]
    },
    {
      "cell_type": "markdown",
      "metadata": {},
      "source": [
        "Compute optimal parameters\n\n"
      ]
    },
    {
      "cell_type": "code",
      "execution_count": null,
      "metadata": {
        "collapsed": false
      },
      "outputs": [],
      "source": [
        "# number of parameters to be tested to find the optimal one for connectivity\n# estimation\nn_lambdas = 15\n\n# initialize the dictionary where to store parameters, TPF and FPF related to\n# connectivity estimation, and the variance of the noise\nparameters = {'tc': [],\n              'conn': np.zeros((4, n_lambdas)),\n              'TPF_conn': np.zeros((n_lambdas, 4, 20)),\n              'FPF_conn': np.zeros((n_lambdas, 4, 20)),\n              'sigma_noise': []}"
      ]
    },
    {
      "cell_type": "markdown",
      "metadata": {},
      "source": [
        "Optimal parameter for neural activity estimation\n\n"
      ]
    },
    {
      "cell_type": "code",
      "execution_count": null,
      "metadata": {
        "collapsed": false
      },
      "outputs": [],
      "source": [
        "# define startin point used by the minimize function to find the optimal\n# parameter\ninput_lamX = np.linalg.norm(N, ord='fro')**2/np.linalg.norm(G.dot(X),\n                                                            ord='fro')**2\n\n# find the optimal parameter\nopt_set = optimize.minimize(funcs.err_X, input_lamX, args=(X, Y, G, GGt),\n                            method='Nelder-Mead')\nlamX = opt_set['x'][0].copy()"
      ]
    },
    {
      "cell_type": "markdown",
      "metadata": {},
      "source": [
        "Optimal parameters for connecttivity estimation\n\n"
      ]
    },
    {
      "cell_type": "code",
      "execution_count": null,
      "metadata": {
        "collapsed": false
      },
      "outputs": [],
      "source": [
        "# define the parameter to be tested to find the optimal one for connectivity\n# estimation, the parameters are defined as multiples of the optimal parameter\n# for neural activity estimation\nlambdas = np.logspace(-5, 1, num=n_lambdas)*lamX\n\n# define the matrix of positives and negatives (positives=1, negtives=0) for\n# connectivity, if the (i,j)-th entry of the matrix assumes value 1 (0)\n# indicate that there is (there is not) connection between source i and j\nPN_matrix_conn = np.zeros((len(p1_locs), N_dense), dtype=int)\nPN_matrix_conn[:, p2_locs] = np.ones((len(p1_locs), len(p2_locs)), dtype=int)\nPN_matrix_conn = np.delete(PN_matrix_conn, p1_locs, axis=-1)\n\n# initialize matrices of true positive and false positive fractions\nTPF_conn = np.zeros((n_lambdas, 4, 20))  # dimension:\n                                         # n_lambdas x conn_meths x thresholds\nFPF_conn = np.zeros((n_lambdas, 4, 20))  # dimension:\n                                         # n_lambdas x conn_meths x thresholds\nAUC_conn = np.zeros((n_lambdas, 4))  # dimension: n_lambdas x conn_meths\n\n\n# compute the AUC value for each tested parameter and for each connectivity\n# matrix\nfor i_lam in range(n_lambdas):\n    AUC_conn[i_lam, :], TPF_conn[i_lam, :, :], FPF_conn[i_lam, :, :] = \\\n        funcs.auc(lambdas[i_lam], ['cpsd', 'imcoh', 'ciplv', 'wpli'], G, GGt,\n                  Y, p1_locs, p2_locs, fmin, fmax, PN_matrix_conn, fs, nperseg)"
      ]
    },
    {
      "cell_type": "markdown",
      "metadata": {},
      "source": [
        "Store results\n\n"
      ]
    },
    {
      "cell_type": "code",
      "execution_count": null,
      "metadata": {
        "collapsed": false
      },
      "outputs": [],
      "source": [
        "parameters['tc'] = lamX.copy()\nparameters['conn'][0, :] = AUC_conn[:, 0].copy()\nparameters['conn'][1, :] = AUC_conn[:, 1].copy()\nparameters['conn'][2, :] = AUC_conn[:, 2].copy()\nparameters['conn'][3, :] = AUC_conn[:, 3].copy()\nparameters['TPF_conn'] = TPF_conn.copy()\nparameters['FPF_conn'] = FPF_conn.copy()"
      ]
    },
    {
      "cell_type": "markdown",
      "metadata": {},
      "source": [
        "Plot results\nWarning: note that plot perspective might not be optimal, when downloading\nthe codes plots are interavtive and perspectives can be changed\n\n"
      ]
    },
    {
      "cell_type": "code",
      "execution_count": null,
      "metadata": {
        "collapsed": false
      },
      "outputs": [],
      "source": [
        "# connectivity measures that can be plotted\nconn_names = ['Cross-power spectrum', 'imCoh', 'ciPLV', 'wPLI']\n\n# connectivity measure to plot (uncomment the one you wish to plot)\n# i_conn = 0  # cpsd\ni_conn = 1  # imCoh\n# i_conn = 2  # ciplv\n# i_conn = 3  # wpli\n\n# regularization parameter for the selected connectivity meteric\nlamC = lambdas[np.argmin(AUC_conn[:, i_conn])]*lamX\n\n# estimated neural activity with the optimal parameters lamX and lamC\nX_lamX = ((G.T).dot(np.linalg.inv(G.dot(G.T)+lamX*np.eye(M)))).dot(Y)\nX_lamC = ((G.T).dot(np.linalg.inv(G.dot(G.T)+lamC*np.eye(M)))).dot(Y)"
      ]
    },
    {
      "cell_type": "markdown",
      "metadata": {},
      "source": [
        "Plot simulated and estimated neural activity (norm along time of the absolute\nvalue)\nWarning: note that plot perspective might not be optimal, when downloading\nthe codes plots are interavtive and perspectives can be changed\n\n"
      ]
    },
    {
      "cell_type": "code",
      "execution_count": null,
      "metadata": {
        "collapsed": false
      },
      "outputs": [],
      "source": [
        "hemi = 'both'\n# plot simulated neural activty\nstc = mne.SourceEstimate(np.linalg.norm(X, axis=1) /\n                         np.max(np.linalg.norm(X, axis=1)),\n                         vertices=vertno, tmin=0, tstep=1, subject=subject)\ntitle = 'Simulated neural activtiy'\nbrain = stc.plot(subject=subject, surface='inflated', smoothing_steps=5,\n                 views=view, hemi=hemi, subjects_dir=subject_dir,\n                 time_viewer=False, colorbar=True)\nbrain.add_text(0.1, 0.9, title, 'title', font_size=14)\nbrain.show()\n\n# plot esimated neural activtiy (estimated using lamX)\nstc = mne.SourceEstimate(np.linalg.norm(X_lamX, axis=1) /\n                         np.max(np.linalg.norm(X_lamX, axis=1)),\n                         vertices=vertno, tmin=0, tstep=1, subject=subject)\ntitle = 'Estimated  neural activtiy (using lam_X)'\nbrain = stc.plot(subject=subject, surface='inflated', smoothing_steps=5,\n                 views=view, hemi=hemi, subjects_dir=subject_dir,\n                 time_viewer=False, colorbar=True)\nbrain.add_text(0.1, 0.9, title, 'title', font_size=14)\nbrain.show()\n\n# plot esimated neural activtiy  (estimated using lamC)\nstc = mne.SourceEstimate(np.linalg.norm(X_lamC, axis=1) /\n                         np.max(np.linalg.norm(X_lamC, axis=1)),\n                         vertices=vertno, tmin=0, tstep=1, subject=subject)\ntitle = r'Estimated neural activtiy (using lam_{'+conn_names[i_conn]+'})'\nbrain = stc.plot(subject=subject, surface='inflated', smoothing_steps=5,\n                 views=view, hemi=hemi, subjects_dir=subject_dir,\n                 time_viewer=False, colorbar=True)\nbrain.add_text(0.1, 0.9, title, 'title', font_size=14)\nbrain.show()"
      ]
    },
    {
      "cell_type": "markdown",
      "metadata": {},
      "source": [
        "Plot simulated connectivity and estimated connectivity with both lamX and\nlamC (norm along frequency of seed based conncctivity)\nWarning: note that plot perspective might not be optimal, when downloading\nthe codes plots are interavtive and perspectives can be changed\n\n"
      ]
    },
    {
      "cell_type": "code",
      "execution_count": null,
      "metadata": {
        "collapsed": false
      },
      "outputs": [],
      "source": [
        "# Compute true and estimated connectivity\n\nconn_true = np.zeros((len(p1_locs), N_dense))\nconn_lamC = np.zeros((len(p1_locs), N_dense))\nconn_lamX = np.zeros((len(p1_locs), N_dense))\n\nfor i_loc, loc in enumerate(p1_locs):\n    # true connectivity\n    f, Connlam_row = signal.csd(X[loc, :], X, fs=fs, window='hann',\n                                nperseg=nperseg, noverlap=nperseg//2,\n                                nfft=nfft, detrend='constant',\n                                return_onesided=True, scaling='density',\n                                axis=-1)\n    f_in = np.intersect1d(np.where(f >= fmin)[0], np.where(f <= fmax)[0])\n    conn_true[i_loc, :] = np.mean(abs(Connlam_row[:, f_in]), axis=-1)\n\n    # estimated connectivity (lamC)\n    f, Connlam_row = signal.csd(X_lamC[loc, :], X_lamC, fs=fs, window='hann',\n                                nperseg=nperseg, noverlap=nperseg//2,\n                                nfft=nfft, detrend='constant',\n                                return_onesided=True, scaling='density',\n                                axis=-1)\n    f_in = np.intersect1d(np.where(f >= fmin)[0], np.where(f <= fmax)[0])\n    conn_lamC[i_loc, :] = np.mean(abs(Connlam_row[:, f_in]), axis=-1)\n\n    # estimated connectivity (lamX)\n    f, Connlam_row = signal.csd(X_lamX[loc, :], X_lamX, fs=fs, window='hann',\n                                nperseg=nperseg, noverlap=nperseg//2,\n                                nfft=nfft, detrend='constant',\n                                return_onesided=True, scaling='density',\n                                axis=-1)\n    f_in = np.intersect1d(np.where(f >= fmin)[0], np.where(f <= fmax)[0])\n    conn_lamX[i_loc, :] = np.mean(abs(Connlam_row[:, f_in]), axis=-1)\n\n\nconn_true = np.mean(conn_true, axis=0)\nconn_lamX = np.mean(conn_lamX, axis=0)\nconn_lamC = np.mean(conn_lamC, axis=0)\nconn = [conn_true, conn_lamX, conn_lamC]\n\n\n# plot simulate brain connectivity\nstc = mne.SourceEstimate(conn_true/np.max(conn_true), vertices=vertno, tmin=0,\n                         tstep=1, subject=subject)\nbrain = stc.plot(subject=subject, surface='inflated', smoothing_steps=5,\n                 hemi=hemi, subjects_dir=subject_dir, time_viewer=False,\n                 colorbar=True, views=view)\ntitle = 'Simulated '+conn_names[i_conn]\nbrain.add_text(0.1, 0.9, title, 'title', font_size=14)\nbrain.show()\n\n# plot estimated brain connectivity (estimated using lamX)\nstc = mne.SourceEstimate(conn_lamX/np.max(conn_lamX), vertices=vertno, tmin=0,\n                         tstep=1, subject=subject)\nbrain = stc.plot(subject=subject, surface='inflated', smoothing_steps=5,\n                 hemi=hemi, subjects_dir=subject_dir, time_viewer=False,\n                 colorbar=True, views=view)\ntitle = 'Estimated ' + conn_names[i_conn] + r' (with lam_{X})'\nbrain.add_text(0.1, 0.9, title, 'title', font_size=14)\nbrain.show()\n\n# plot estimated brain connectivity (estimated using lamc)\nstc = mne.SourceEstimate(conn_lamC/np.max(conn_lamC), vertices=vertno, tmin=0,\n                         tstep=1, subject=subject)\nbrain = stc.plot(subject=subject, surface='inflated', smoothing_steps=5,\n                 hemi=hemi, subjects_dir=subject_dir, time_viewer=False,\n                 colorbar=True, views=view)\ntitle = 'Estimated ' + conn_names[i_conn] + r' (with lam_{' + \\\n        conn_names[i_conn] + '})'\nbrain.add_text(0.1, 0.9, title, 'title', font_size=14)\nbrain.show()"
      ]
    },
    {
      "cell_type": "markdown",
      "metadata": {},
      "source": [
        "Save data in a local folder\n\n"
      ]
    },
    {
      "cell_type": "code",
      "execution_count": null,
      "metadata": {
        "collapsed": false
      },
      "outputs": [],
      "source": [
        "# Uncomment the lines below if you wish to save the results\n\n\n# save_path = op.join('.', 'results')\n# if not op.isdir(save_path):\n#    os.makedirs(save_path)\n\n# np.save(op.join(dir_path, 'parameters.npy'), parameters)\n# np.save(op.join(dir_path, 'data.npy'), data)\n# np.save(op.join(dir_path, 'features.npy'), features)\n# np.save(op.join(dir_path, 'connectivity.npy'), conn)"
      ]
    }
  ],
  "metadata": {
    "kernelspec": {
      "display_name": "Python 3",
      "language": "python",
      "name": "python3"
    },
    "language_info": {
      "codemirror_mode": {
        "name": "ipython",
        "version": 3
      },
      "file_extension": ".py",
      "mimetype": "text/x-python",
      "name": "python",
      "nbconvert_exporter": "python",
      "pygments_lexer": "ipython3",
      "version": "3.7.4"
    }
  },
  "nbformat": 4,
  "nbformat_minor": 0
}