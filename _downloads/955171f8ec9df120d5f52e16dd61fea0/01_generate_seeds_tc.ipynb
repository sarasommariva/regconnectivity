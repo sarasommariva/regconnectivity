{
  "cells": [
    {
      "cell_type": "code",
      "execution_count": null,
      "metadata": {
        "collapsed": false
      },
      "outputs": [],
      "source": [
        "%matplotlib inline"
      ]
    },
    {
      "cell_type": "markdown",
      "metadata": {},
      "source": [
        "\n# Part 2: Generate seeds time coursed and locations\n"
      ]
    },
    {
      "cell_type": "code",
      "execution_count": null,
      "metadata": {
        "collapsed": false
      },
      "outputs": [],
      "source": [
        "import mne\nimport numpy as np\nimport os.path as op\nimport os\nfrom scipy import signal\nimport functions_code as myf\nimport sys\ntarget = '.'\nnoct = '6'"
      ]
    },
    {
      "cell_type": "markdown",
      "metadata": {},
      "source": [
        "Loading data\n\n"
      ]
    },
    {
      "cell_type": "code",
      "execution_count": null,
      "metadata": {
        "collapsed": false
      },
      "outputs": [],
      "source": [
        "# data path\nfile_fwd = op.join(target, 'data', 'oct'+noct+'_fwd.fif')\n\n# load fwd\nfwd = mne.read_forward_solution(file_fwd, verbose=False)\nfwd = mne.convert_forward_solution(\n    fwd, surf_ori=True, force_fixed=True, use_cps=True, verbose=False)\nfwd = mne.pick_types_forward(fwd, meg='mag', eeg=False, ref_meg=False)\n\nG = fwd['sol']['data']  # leadfield matrix\nG = 10**5*G  # rescale to avoid small numbers\n\n\n# dipole position\ndip_pos = fwd['source_rr']\n\n# dipole orientations\ndip_or = fwd['source_nn']\n\n# load cortico-cortical distance matrix\ncortico_dist_file = op.join(target, 'data', 'cortico_dist_oct'+noct+'.npy')\ncortico_dist = np.load(cortico_dist_file)"
      ]
    },
    {
      "cell_type": "markdown",
      "metadata": {},
      "source": [
        "define features\n\n"
      ]
    },
    {
      "cell_type": "code",
      "execution_count": null,
      "metadata": {
        "collapsed": false
      },
      "outputs": [],
      "source": [
        "N_mod = int(sys.argv[1])  # Number of simulated AR models (with connections)\nN_loc = int(sys.argv[2])  # Number of different connected pairs of locations\n# Standard deviation of the entries of the AR model\nalpha = np.random.rand(N_mod)*0.9+0.1\nalpha.sort()\n\nT = int(10000)   # Number of time points\nfs = int(128)    # Samples frequency\ndelta_t = 1/fs\nfmin = 8\nfmax = 12\n\nM = G.shape[0]  # Number of sensor\nN_dense = G.shape[1]  # Number of sources in the dense source space\nN_act = int(2)  # Number of active patches\nP = int(5)   # MVAR order\nratio_max = 1.5  # Ratio max between the intensities of the seed sources\n\n# store relevant features\nfeatures = {'N_mod': N_mod, 'N_loc': N_loc, 'T': T,\n            'fs': fs, 'fmin': fmin, 'fmax': fmax, 'N_act': N_act}"
      ]
    },
    {
      "cell_type": "markdown",
      "metadata": {},
      "source": [
        "generate N_mod MVAR models of dimension 2 (pairs of time courses)\n\n"
      ]
    },
    {
      "cell_type": "code",
      "execution_count": null,
      "metadata": {
        "collapsed": false
      },
      "outputs": [],
      "source": [
        "# Initialize the time courses of the seeds of the active patches\nseed_tcs = np.zeros((N_act, T, N_mod))\n\nnperseg = 256  # length of the window for the fourier transform\nnfft = nperseg  # number of frequencies\ni_mod = 0\nwhile i_mod < N_mod:\n    ratio = np.inf\n    while ratio > ratio_max:\n        AR_mod = myf.gen_ar_model(N_act, P, alpha[i_mod])\n        X_act, AR_mod = myf.gen_ar_series(AR_mod, T)\n        norm_X = np.linalg.norm(X_act, axis=1)\n        norm_X.sort()\n        # retain pairs of time courses whose intensities are close\n        # (int_max/int_min < ratio_max)\n        ratio = norm_X[-1]/norm_X[0]\n    norm_const = np.mean(np.std(X_act, axis=1))\n    # normalize the time series so that different pairs have similar intensity\n    X_act = X_act/norm_const\n    # compute power spectrum in the freq range of interest\n    f, Pwe = signal.welch(X_act, fs=fs, window='hann', nperseg=nperseg,\n                          noverlap=nperseg // 2, nfft=nfft, detrend='constant',\n                          return_onesided=True, scaling='density', axis=-1)\n    P_tot = Pwe[0, :]+Pwe[1, :]\n    f_in = np.intersect1d(np.where(f >= fmin)[0], np.where(f <= fmax)[0])\n    # retain only time courses with sufficiently high power in the frequency\n    # range of interest\n    if np.sum(P_tot[f_in])/len(f_in) > 1.2*np.sum(P_tot)/len(f):\n        b, a = signal.butter(3, np.array(\n            [8, 12]), btype='bandpass', analog=False, output='ba', fs=fs)\n        X_act = signal.filtfilt(b, a, X_act, axis=- 1, padtype='odd',\n                                padlen=None, method='pad', irlen=None)\n        seed_tcs[:, :, i_mod] = X_act\n        i_mod = i_mod + 1"
      ]
    },
    {
      "cell_type": "markdown",
      "metadata": {},
      "source": [
        "generate patches sources\n\n"
      ]
    },
    {
      "cell_type": "code",
      "execution_count": null,
      "metadata": {
        "collapsed": false
      },
      "outputs": [],
      "source": [
        "# select pairs of active sources (seeds) in the source space\nseed_locs = myf.select_sources(G, dip_pos, N_loc)"
      ]
    },
    {
      "cell_type": "markdown",
      "metadata": {},
      "source": [
        "store the generated data in a dictionary and save it\n\n"
      ]
    },
    {
      "cell_type": "code",
      "execution_count": null,
      "metadata": {
        "collapsed": false
      },
      "outputs": [],
      "source": [
        "seed_tc_loc = {'features': features,\n               'seed_tcs': seed_tcs, 'seed_locs': seed_locs}\n\nrun_data_path = op.join('.', 'run_data')\nif not op.exists(run_data_path):\n    os.mkdir(run_data_path)\n\nnp.save(op.join(run_data_path, 'seed_tc_loc.npy'), seed_tc_loc)"
      ]
    }
  ],
  "metadata": {
    "kernelspec": {
      "display_name": "Python 3",
      "language": "python",
      "name": "python3"
    },
    "language_info": {
      "codemirror_mode": {
        "name": "ipython",
        "version": 3
      },
      "file_extension": ".py",
      "mimetype": "text/x-python",
      "name": "python",
      "nbconvert_exporter": "python",
      "pygments_lexer": "ipython3",
      "version": "3.7.4"
    }
  },
  "nbformat": 4,
  "nbformat_minor": 0
}