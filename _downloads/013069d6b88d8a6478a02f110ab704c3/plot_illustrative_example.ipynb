{
  "cells": [
    {
      "cell_type": "code",
      "execution_count": null,
      "metadata": {
        "collapsed": false
      },
      "outputs": [],
      "source": [
        "%matplotlib inline"
      ]
    },
    {
      "cell_type": "markdown",
      "metadata": {},
      "source": [
        "\n# Reproducing plots of the illustrative example of the paper\n\nCode for reproducing the plots related to the illustrative example presented\nin the paper\n"
      ]
    },
    {
      "cell_type": "code",
      "execution_count": null,
      "metadata": {
        "collapsed": false
      },
      "outputs": [],
      "source": [
        "import numpy as np\nimport mne\nimport os.path as op\nimport os\nimport pooch\nimport matplotlib.pyplot as plt\nimport math\nimport funcs_single_sim as funcs\nfrom mpl_toolkits.axes_grid1 import make_axes_locatable\ntarget = '..'\n\n\ndef crop_image(image_matrix):\n    image = image_matrix.copy()\n    i_left = 0\n    i_right = image.shape[1] - 1\n    i_top = 0\n    i_bottom = image.shape[0] - 1\n    while np.array_equal(image[:, i_left, :], image[:, 0, :]):\n        i_left += 1\n\n    while np.array_equal(image[:, i_right, :], image[:, -1, :]):\n        i_right -= 1\n\n    while np.array_equal(image[i_top, :, :], image[0, :, :]):\n        i_top += 1\n\n    while np.array_equal(image[i_bottom, :, :], image[-1, :, :]):\n        i_bottom -= 1\n\n    cropped_image = image_matrix[i_top -\n                                 10:i_bottom + 10, i_left - 10:i_right + 10]\n    return cropped_image"
      ]
    },
    {
      "cell_type": "markdown",
      "metadata": {},
      "source": [
        "Download data (if not already downloaded or generated with generate_fwd.py)\n\n"
      ]
    },
    {
      "cell_type": "code",
      "execution_count": null,
      "metadata": {
        "collapsed": false
      },
      "outputs": [],
      "source": [
        "data_path = op.join('..', 'data')\ndata_single_sim_path = op.join('..', 'data', 'data_single_sim')\n\nif not op.exists(data_path):\n    os.mkdir(data_path)\n\nif not op.exists(data_single_sim_path):\n    os.mkdir(data_single_sim_path)\n\nfname = 'connectivity.npy'\nif not op.exists(op.join(data_single_sim_path, fname)):\n    url = 'https://osf.io/download/zfwxh/?direct%26mode=render'\n    pooch.retrieve(url=url, known_hash=None,\n                   path=data_single_sim_path, fname=fname)\n\nfname = 'data.npy'\nif not op.exists(op.join(data_single_sim_path, fname)):\n    url = 'https://osf.io/download/a8xdn/?direct%26mode=render'\n    pooch.retrieve(url=url, known_hash=None,\n                   path=data_single_sim_path, fname=fname)\n\nfname = 'features.npy'\nif not op.exists(op.join(data_single_sim_path, fname)):\n    url = 'https://osf.io/download/kzxad/?direct%26mode=render'\n    pooch.retrieve(url=url, known_hash=None,\n                   path=data_single_sim_path, fname=fname)\n\nfname = 'parameters.npy'\nif not op.exists(op.join(data_single_sim_path, fname)):\n    url = 'https://osf.io/download/zcsgv/?direct%26mode=render'\n    pooch.retrieve(url=url, known_hash=None,\n                   path=data_single_sim_path, fname=fname)\n\n\nfname = 'oct6_fwd.fif'\nif not op.exists(op.join(data_path, fname)):\n    url = 'https://osf.io/download/7dfvm/?direct%26mode=render'\n    pooch.retrieve(url=url, known_hash=None, path=data_path, fname=fname)\n\nfname = 'cortico_dist_oct6.npy'\nif not op.exists(op.join(data_path, fname)):\n    url = 'https://osf.io/download/37kaz/?direct%26mode=render'\n    pooch.retrieve(url=url, known_hash=None, path=data_path, fname=fname)"
      ]
    },
    {
      "cell_type": "markdown",
      "metadata": {},
      "source": [
        "Load data\n\n"
      ]
    },
    {
      "cell_type": "code",
      "execution_count": null,
      "metadata": {
        "collapsed": false
      },
      "outputs": [],
      "source": [
        "connectivity_file = op.join(data_single_sim_path, 'connectivity.npy')\nconnectivity = np.load(connectivity_file, allow_pickle=True).item()\n\ndata_file = op.join(data_single_sim_path, 'data.npy')\ndata = np.load(data_file, allow_pickle=True).item()\n\nfeatures_file = op.join(data_single_sim_path, 'features.npy')\nfeatures = np.load(features_file, allow_pickle=True).item()\n\nparameters_file = op.join(data_single_sim_path, 'parameters.npy')\nparameters = np.load(parameters_file, allow_pickle=True).item()\n\nfwd_file = op.join(data_path, 'oct6_fwd.fif')\nfwd = mne.read_forward_solution(fwd_file, verbose=False)\nfwd = mne.convert_forward_solution(fwd, surf_ori=True, force_fixed=True,\n                                   use_cps=True, verbose=False)\nfwd = mne.pick_types_forward(fwd, meg='mag', eeg=False, ref_meg=False)\n\ncortico_dist_file = op.join(target, 'data', 'cortico_dist_oct6.npy')\ncortico_dist = np.load(cortico_dist_file)"
      ]
    },
    {
      "cell_type": "markdown",
      "metadata": {},
      "source": [
        "Define additional features\n\n"
      ]
    },
    {
      "cell_type": "code",
      "execution_count": null,
      "metadata": {
        "collapsed": false
      },
      "outputs": [],
      "source": [
        "G = fwd['sol']['data']  # leadfield matrix\nG = 10**5*G\nGGt = G.dot(G.T)\nU, s, V = np.linalg.svd(G)\nV = V.T\n\ndip_pos = fwd['source_rr']\ndip_or = fwd['source_nn']\nsrc = fwd['src']\nvertno = [src[0]['vertno'], src[1]['vertno']]\n\nX = data['X']\nY = data['Y']\nseed_loc = data['sees_loc']\nlamX = parameters['tc']\nAUC_conn = parameters['conn']\nTPF_conn = parameters['TPF_conn']\nFPF_conn = parameters['FPF_conn']\narea = features['area']\nr = np.sqrt(area*10**(-4)/math.pi)\np1_locs, p2_locs = funcs.gen_patches_sources(cortico_dist, r, seed_loc)\nlambdas = np.logspace(-5, 1, num=15)\nM = G.shape[0]\nN_dense = G.shape[1]\nfs = features['fs']\nnperseg = 256\nnfft = nperseg\nfmin = features['fmin']\nfmax = features['fmax']"
      ]
    },
    {
      "cell_type": "markdown",
      "metadata": {},
      "source": [
        "Optimal parameters\n\n"
      ]
    },
    {
      "cell_type": "code",
      "execution_count": null,
      "metadata": {
        "collapsed": false
      },
      "outputs": [],
      "source": [
        "lam_cps = lambdas[np.argmin(AUC_conn[0, :])]*lamX\nlam_imcoh = lambdas[np.argmin(AUC_conn[1, :])]*lamX\nlam_ciplv = lambdas[np.argmin(AUC_conn[2, :])]*lamX\nlam_wpli = lambdas[np.argmin(AUC_conn[3, :])]*lamX\n\nlam_cps = lambdas[np.argmin(AUC_conn[0, :])]*lamX\nlam_imcoh = lambdas[np.argmin(AUC_conn[1, :])]*lamX\nlam_ciplv = lambdas[np.argmin(AUC_conn[2, :])]*lamX\nlam_wpli = lambdas[np.argmin(AUC_conn[3, :])]*lamX"
      ]
    },
    {
      "cell_type": "markdown",
      "metadata": {},
      "source": [
        "Estimated neural activity with the optimal parameters\n\n"
      ]
    },
    {
      "cell_type": "code",
      "execution_count": null,
      "metadata": {
        "collapsed": false
      },
      "outputs": [],
      "source": [
        "X_lamX = ((G.T).dot(np.linalg.inv(G.dot(G.T)+lamX*np.eye(M)))).dot(Y)\nX_lam_cps = ((G.T).dot(np.linalg.inv(G.dot(G.T)+lam_cps*np.eye(M)))).dot(Y)\nX_lam_imcoh = ((G.T).dot(np.linalg.inv(G.dot(G.T)+lam_imcoh*np.eye(M)))).dot(Y)\nX_lam_ciplv = ((G.T).dot(np.linalg.inv(G.dot(G.T)+lam_ciplv*np.eye(M)))).dot(Y)\nX_lam_wpli = ((G.T).dot(np.linalg.inv(G.dot(G.T)+lam_wpli*np.eye(M)))).dot(Y)"
      ]
    },
    {
      "cell_type": "markdown",
      "metadata": {},
      "source": [
        "Plot neural activity\n\n"
      ]
    },
    {
      "cell_type": "code",
      "execution_count": null,
      "metadata": {
        "collapsed": false
      },
      "outputs": [],
      "source": [
        "hemi = 'both'\nsubject_dir = op.join(mne.datasets.sample.data_path(), 'subjects')\nsubject = 'sample'\n\nclim = {'kind': 'value', 'lims': [0.5, 0.6, 1]}\nroll = 0\n\nviews = 'axial'\nsize = (1200, 1000)\n\n# plot simulated seed based connectivity\nstc = mne.SourceEstimate(np.linalg.norm(X, axis=1) /\n                         np.max(np.linalg.norm(X, axis=1)),\n                         vertices=vertno, tmin=0, tstep=1, subject=subject)\nbrain = stc.plot(subject=subject, surface='inflated', smoothing_steps=5,\n                 views=views, size=size, clim=clim, hemi=hemi,\n                 subjects_dir=subject_dir, time_viewer=False, colorbar=False,\n                 background='white', add_data_kwargs=dict(\n                     colorbar_kwargs=dict(label_font_size=40)))\nbrain.show_view(azimuth=-90, elevation=10, distance=600, roll=roll)\nscreenshot = brain.screenshot()\nbrain.close()\nscreenshot1 = crop_image(screenshot)\n\n# plot reconstructed seed brain activity (estimateed using lamX)\nstc = mne.SourceEstimate(np.linalg.norm(X_lamX, axis=1) /\n                         np.max(np.linalg.norm(X_lamX, axis=1)),\n                         vertices=vertno, tmin=0, tstep=1, subject=subject)\nbrain = stc.plot(subject=subject, surface='inflated', smoothing_steps=5,\n                 views=views, size=size, clim=clim, hemi=hemi,\n                 subjects_dir=subject_dir, time_viewer=False, colorbar=False,\n                 background='white', add_data_kwargs=dict(\n                     colorbar_kwargs=dict(label_font_size=40)))\nbrain.show_view(azimuth=-90, elevation=10, distance=600, roll=roll)\nscreenshot = brain.screenshot()\nbrain.close()\nscreenshot2 = crop_image(screenshot)\n\n# plot reconstructed brain activity (estimateed using lam_cps)\nstc = mne.SourceEstimate(np.linalg.norm(X_lam_cps, axis=1) /\n                         np.max(np.linalg.norm(X_lam_cps, axis=1)),\n                         vertices=vertno, tmin=0, tstep=1, subject=subject)\nbrain = stc.plot(subject=subject, surface='inflated', smoothing_steps=5,\n                 views=views, size=size, clim=clim, hemi=hemi,\n                 subjects_dir=subject_dir, time_viewer=False, colorbar=False,\n                 background='white', add_data_kwargs=dict(\n                     colorbar_kwargs=dict(label_font_size=40)))\nbrain.show_view(azimuth=-90, elevation=10, distance=600, roll=roll)\nscreenshot = brain.screenshot()\nbrain.close()\nscreenshot3 = crop_image(screenshot)\n\n# plot reconstructed brain activity (estimateed using lam_wpli)\nstc = mne.SourceEstimate(np.linalg.norm(X_lam_wpli, axis=1) /\n                         np.max(np.linalg.norm(X_lam_wpli, axis=1)),\n                         vertices=vertno, tmin=0, tstep=1, subject=subject)\nbrain = stc.plot(subject=subject, surface='inflated', smoothing_steps=5,\n                 views=views, size=size, clim=clim, hemi=hemi,\n                 subjects_dir=subject_dir, time_viewer=False, colorbar=False,\n                 background='white', add_data_kwargs=dict(\n                     colorbar_kwargs=dict(label_font_size=40)))\nbrain.show_view(azimuth=-90, elevation=10, distance=600, roll=roll)\nscreenshot = brain.screenshot()\nbrain.close()\nscreenshot4 = crop_image(screenshot)\n\nfig, ax = plt.subplots(1, 5, figsize=(8, 3))\nax[0].imshow(screenshot1)\nax[0].axis('off')\nax[0].set_title('True')\n\nax[1].imshow(screenshot2)\nax[1].axis('off')\nax[1].set_title(r'$\\lambda_{{X}}$')\n\nax[2].imshow(screenshot3)\nax[2].axis('off')\nax[2].set_title(r'$\\lambda_{{CPS}}$')\n\nax[3].imshow(screenshot4)\nax[3].axis('off')\nax[3].set_title(r'$\\lambda_{{wPLI}}$')\n\nax[4].axis('off')\ndivider = make_axes_locatable(ax[4])\ncax = divider.append_axes('left', size='5%', pad='0%')\ncbar = mne.viz.plot_brain_colorbar(cax, clim, 'hot', bgcolor='0.5')\n\nfig.suptitle('Neural activity')\nplt.tight_layout()"
      ]
    },
    {
      "cell_type": "markdown",
      "metadata": {},
      "source": [
        "Plot cross-power spectrum\n\n"
      ]
    },
    {
      "cell_type": "code",
      "execution_count": null,
      "metadata": {
        "collapsed": false
      },
      "outputs": [],
      "source": [
        "cps_true = connectivity['conn_true'][:, :, 0]\ncps_lam_cps = connectivity['conn_lamC'][:, :, 0]\ncps_lamX = connectivity['conn_lamX'][:, :, 0]\n\nclim = {'kind': 'value', 'lims': [0.20, 0.25, 1]}\n\n# Plot true cross-power spectrum\nstc = mne.SourceEstimate(np.mean(cps_true, axis=0) /\n                         np.max(np.mean(cps_true, axis=0)), vertices=vertno,\n                         tmin=0, tstep=1, subject=subject)\nbrain = stc.plot(subject=subject, surface='inflated', smoothing_steps=5,\n                 clim=clim, views=views, size=size, hemi=hemi,\n                 subjects_dir=subject_dir, time_viewer=False, colorbar=False,\n                 background='white', add_data_kwargs=dict(\n                     colorbar_kwargs=dict(label_font_size=40)))\nbrain.show_view(azimuth=-90, elevation=10, distance=600, roll=roll)\nscreenshot = brain.screenshot()\nbrain.close()\nscreenshot1 = crop_image(screenshot)\n\n\n# Plot estimated cross-power spectrum (using lamX)\nstc = mne.SourceEstimate(np.mean(cps_lamX, axis=0) /\n                         np.max(np.mean(cps_lamX, axis=0)), vertices=vertno,\n                         tmin=0, tstep=1, subject=subject)\nbrain = stc.plot(subject=subject, surface='inflated', smoothing_steps=5,\n                 clim=clim, views=views, size=size, hemi=hemi,\n                 subjects_dir=subject_dir, time_viewer=False, colorbar=False,\n                 background='white', add_data_kwargs=dict(\n                     colorbar_kwargs=dict(label_font_size=40)))\nbrain.show_view(azimuth=-90, elevation=10, distance=600, roll=roll)\nscreenshot = brain.screenshot()\nbrain.close()\nscreenshot2 = crop_image(screenshot)\n\n# Plot estimated cross-power spectrum (using lam_cps)\nstc = mne.SourceEstimate(np.mean(cps_lam_cps, axis=0) /\n                         np.max(np.mean(cps_lam_cps, axis=0)), vertices=vertno,\n                         tmin=0, tstep=1, subject=subject)\nbrain = stc.plot(subject=subject, surface='inflated', smoothing_steps=5,\n                 clim=clim, views=views, size=size, hemi=hemi,\n                 subjects_dir=subject_dir, time_viewer=False, colorbar=False,\n                 background='white', add_data_kwargs=dict(\n                     colorbar_kwargs=dict(label_font_size=40)))\nbrain.show_view(azimuth=-90, elevation=10, distance=600, roll=roll)\nscreenshot = brain.screenshot()\nbrain.close()\nscreenshot3 = crop_image(screenshot)\n\nfig, ax = plt.subplots(1, 4, figsize=(6, 3))\nax[0].imshow(screenshot1)\nax[0].axis('off')\nax[0].set_title('True')\n\nax[1].imshow(screenshot2)\nax[1].axis('off')\nax[1].set_title(r'$\\lambda_{{X}}$')\n\nax[2].imshow(screenshot3)\nax[2].axis('off')\nax[2].set_title(r'$\\lambda_{{CPS}}$')\n\nax[3].axis('off')\ndivider = make_axes_locatable(ax[3])\ncax = divider.append_axes('left', size='5%', pad='0%')\ncbar = mne.viz.plot_brain_colorbar(cax, clim, 'hot', bgcolor='0.5')\n\nfig.suptitle('Cross-power spectrum')\nplt.tight_layout()"
      ]
    },
    {
      "cell_type": "markdown",
      "metadata": {},
      "source": [
        "Plot wPLI\n\n"
      ]
    },
    {
      "cell_type": "code",
      "execution_count": null,
      "metadata": {
        "collapsed": false
      },
      "outputs": [],
      "source": [
        "wpli_true = connectivity['conn_true'][:, :, 3]\nwpli_lam_wpli = connectivity['conn_lamC'][:, :, 3]\nwpli_lamX = connectivity['conn_lamX'][:, :, 3]\n\nclim = {'kind': 'value', 'lims': [0.60, 0.7, 1]}\n\n# Plot true wPLI\nstc = mne.SourceEstimate(np.mean(wpli_true, axis=0) /\n                         np.max(np.mean(wpli_true, axis=0)), vertices=vertno,\n                         tmin=0, tstep=1, subject=subject)\nbrain = stc.plot(subject=subject, surface='inflated', smoothing_steps=5,\n                 clim=clim, views=views, size=size, hemi=hemi,\n                 subjects_dir=subject_dir, time_viewer=False, colorbar=False,\n                 background='white', add_data_kwargs=dict(\n                     colorbar_kwargs=dict(label_font_size=40)))\nbrain.show_view(azimuth=-90, elevation=10, distance=600, roll=roll)\nscreenshot = brain.screenshot()\nbrain.close()\nscreenshot1 = crop_image(screenshot)\n\n\n# Plot estimated wPLI (using lamX)\nstc = mne.SourceEstimate(np.mean(wpli_lamX, axis=0) /\n                         np.max(np.mean(wpli_true, axis=0)), vertices=vertno,\n                         tmin=0, tstep=1, subject=subject)\nbrain = stc.plot(subject=subject, surface='inflated', smoothing_steps=5,\n                 clim=clim, views=views, size=size, hemi=hemi,\n                 subjects_dir=subject_dir, time_viewer=False, colorbar=False,\n                 background='white', add_data_kwargs=dict(\n                     colorbar_kwargs=dict(label_font_size=40)))\nbrain.show_view(azimuth=-90, elevation=10, distance=600, roll=roll)\nscreenshot = brain.screenshot()\nbrain.close()\nscreenshot2 = crop_image(screenshot)\n\n# Plot estimated wPLI (using lam_wPLI)\nstc = mne.SourceEstimate(np.mean(wpli_lam_wpli, axis=0) /\n                         np.max(np.mean(wpli_true, axis=0)), vertices=vertno,\n                         tmin=0, tstep=1, subject=subject)\nbrain = stc.plot(subject=subject, surface='inflated', smoothing_steps=5,\n                 clim=clim, views=views, size=size, hemi=hemi,\n                 subjects_dir=subject_dir, time_viewer=False, colorbar=False,\n                 background='white', add_data_kwargs=dict(\n                     colorbar_kwargs=dict(label_font_size=40)))\nbrain.show_view(azimuth=-90, elevation=10, distance=600, roll=roll)\nscreenshot = brain.screenshot()\nbrain.close()\nscreenshot3 = crop_image(screenshot)\n\nfig, ax = plt.subplots(1, 4, figsize=(6, 3))\nax[0].imshow(screenshot1)\nax[0].axis('off')\nax[0].set_title('True')\n\nax[1].imshow(screenshot2)\nax[1].axis('off')\nax[1].set_title(r'$\\lambda_{{X}}$')\n\nax[2].imshow(screenshot3)\nax[2].axis('off')\nax[2].set_title(r'$\\lambda_{{wPLI}}$')\n\nax[3].axis('off')\ndivider = make_axes_locatable(ax[3])\ncax = divider.append_axes('left', size='5%', pad='0%')\ncbar = mne.viz.plot_brain_colorbar(cax, clim, 'hot', bgcolor='0.5')\n\nfig.suptitle('Weighted phase lax index')\nplt.tight_layout()"
      ]
    },
    {
      "cell_type": "markdown",
      "metadata": {},
      "source": [
        "Plot imCOH\n\n"
      ]
    },
    {
      "cell_type": "code",
      "execution_count": null,
      "metadata": {
        "collapsed": false
      },
      "outputs": [],
      "source": [
        "imcoh_true = connectivity['conn_true'][:, :, 1]\nimcoh_lam_imcoh = connectivity['conn_lamC'][:, :, 1]\nimcoh_lamX = connectivity['conn_lamX'][:, :, 1]\n\nclim = {'kind': 'value', 'lims': [0.60, 0.7, 1]}\n\n# Plot true imCOH\nstc = mne.SourceEstimate(np.mean(imcoh_true, axis=0) /\n                         np.max(np.mean(imcoh_true, axis=0)), vertices=vertno,\n                         tmin=0, tstep=1, subject=subject)\nbrain = stc.plot(subject=subject, surface='inflated', smoothing_steps=5,\n                 clim=clim, views=views, size=size, hemi=hemi,\n                 subjects_dir=subject_dir, time_viewer=False, colorbar=False,\n                 background='white', add_data_kwargs=dict(\n                     colorbar_kwargs=dict(label_font_size=40)))\nbrain.show_view(azimuth=-90, elevation=10, distance=600, roll=roll)\nscreenshot = brain.screenshot()\nbrain.close()\nscreenshot1 = crop_image(screenshot)\n\n\n# Plot estimated imCOH (using lamX)\nstc = mne.SourceEstimate(np.mean(imcoh_lamX, axis=0) /\n                         np.max(np.mean(imcoh_lamX, axis=0)), vertices=vertno,\n                         tmin=0, tstep=1, subject=subject)\nbrain = stc.plot(subject=subject, surface='inflated', smoothing_steps=5,\n                 clim=clim, views=views, size=size, hemi=hemi,\n                 subjects_dir=subject_dir, time_viewer=False, colorbar=False,\n                 background='white', add_data_kwargs=dict(\n                     colorbar_kwargs=dict(label_font_size=40)))\nbrain.show_view(azimuth=-90, elevation=10, distance=600, roll=roll)\nscreenshot = brain.screenshot()\nbrain.close()\nscreenshot2 = crop_image(screenshot)\n\n# Plot estimated imCOH (using lam_imcoh)\nstc = mne.SourceEstimate(np.mean(imcoh_lam_imcoh, axis=0) /\n                         np.max(np.mean(imcoh_lam_imcoh, axis=0)),\n                         vertices=vertno, tmin=0, tstep=1, subject=subject)\nbrain = stc.plot(subject=subject, surface='inflated', smoothing_steps=5,\n                 clim=clim, views=views, size=size, hemi=hemi,\n                 subjects_dir=subject_dir, time_viewer=False, colorbar=False,\n                 background='white', add_data_kwargs=dict(\n                     colorbar_kwargs=dict(label_font_size=40)))\nbrain.show_view(azimuth=-90, elevation=10, distance=600, roll=roll)\nscreenshot = brain.screenshot()\nbrain.close()\nscreenshot3 = crop_image(screenshot)\n\nfig, ax = plt.subplots(1, 4, figsize=(6, 3))\nax[0].imshow(screenshot1)\nax[0].axis('off')\nax[0].set_title('True')\n\nax[1].imshow(screenshot2)\nax[1].axis('off')\nax[1].set_title(r'$\\lambda_{{X}}$')\n\nax[2].imshow(screenshot3)\nax[2].axis('off')\nax[2].set_title(r'$\\lambda_{{imCOH}}$')\n\nax[3].axis('off')\ndivider = make_axes_locatable(ax[3])\ncax = divider.append_axes('left', size='5%', pad='0%')\ncbar = mne.viz.plot_brain_colorbar(cax, clim, 'hot', bgcolor='0.5')\n\nfig.suptitle('Imaginary part of coherence')\nplt.tight_layout()"
      ]
    },
    {
      "cell_type": "markdown",
      "metadata": {},
      "source": [
        "Plot ciPLV\n\n"
      ]
    },
    {
      "cell_type": "code",
      "execution_count": null,
      "metadata": {
        "collapsed": false
      },
      "outputs": [],
      "source": [
        "ciplv_true = connectivity['conn_true'][:, :, 1]\nciplv_lam_ciplv = connectivity['conn_lamC'][:, :, 1]\nciplv_lamX = connectivity['conn_lamX'][:, :, 1]\n\nclim = {'kind': 'value', 'lims': [0.60, 0.7, 1]}\n\n# Plot true ciPLV\nstc = mne.SourceEstimate(np.mean(ciplv_true, axis=0) /\n                         np.max(np.mean(ciplv_true, axis=0)), vertices=vertno,\n                         tmin=0, tstep=1, subject=subject)\nbrain = stc.plot(subject=subject, surface='inflated', smoothing_steps=5,\n                 clim=clim, views=views, size=size, hemi=hemi,\n                 subjects_dir=subject_dir, time_viewer=False, colorbar=False,\n                 background='white', add_data_kwargs=dict(\n                     colorbar_kwargs=dict(label_font_size=40)))\nbrain.show_view(azimuth=-90, elevation=10, distance=600, roll=roll)\nscreenshot = brain.screenshot()\nbrain.close()\nscreenshot1 = crop_image(screenshot)\n\n\n# Plot estimated ciPLV (using lamX)\nstc = mne.SourceEstimate(np.mean(ciplv_lamX, axis=0) /\n                         np.max(np.mean(ciplv_lamX, axis=0)), vertices=vertno,\n                         tmin=0, tstep=1, subject=subject)\nbrain = stc.plot(subject=subject, surface='inflated', smoothing_steps=5,\n                 clim=clim, views=views, size=size, hemi=hemi,\n                 subjects_dir=subject_dir, time_viewer=False, colorbar=False,\n                 background='white', add_data_kwargs=dict(\n                     colorbar_kwargs=dict(label_font_size=40)))\nbrain.show_view(azimuth=-90, elevation=10, distance=600, roll=roll)\nscreenshot = brain.screenshot()\nbrain.close()\nscreenshot2 = crop_image(screenshot)\n\n# Plot estimated ciPLV (using lam_ciplv)\nstc = mne.SourceEstimate(np.mean(ciplv_lam_ciplv, axis=0) /\n                         np.max(np.mean(ciplv_lam_ciplv, axis=0)),\n                         vertices=vertno, tmin=0, tstep=1, subject=subject)\nbrain = stc.plot(subject=subject, surface='inflated', smoothing_steps=5,\n                 clim=clim, views=views, size=size, hemi=hemi,\n                 subjects_dir=subject_dir, time_viewer=False, colorbar=False,\n                 background='white', add_data_kwargs=dict(\n                     colorbar_kwargs=dict(label_font_size=40)))\nbrain.show_view(azimuth=-90, elevation=10, distance=600, roll=roll)\nscreenshot = brain.screenshot()\nbrain.close()\nscreenshot3 = crop_image(screenshot)\n\nfig, ax = plt.subplots(1, 4, figsize=(6, 3))\nax[0].imshow(screenshot1)\nax[0].axis('off')\nax[0].set_title('True')\n\nax[1].imshow(screenshot2)\nax[1].axis('off')\nax[1].set_title(r'$\\lambda_{{X}}$')\n\nax[2].imshow(screenshot3)\nax[2].axis('off')\nax[2].set_title(r'$\\lambda_{{ciPLV}}$')\n\nax[3].axis('off')\ndivider = make_axes_locatable(ax[3])\ncax = divider.append_axes('left', size='5%', pad=0.2)\ncbar = mne.viz.plot_brain_colorbar(cax, clim, 'hot', bgcolor='0.5')\n\nfig.suptitle('Corrected imaginary part of phase locking value ')\nplt.tight_layout()"
      ]
    }
  ],
  "metadata": {
    "kernelspec": {
      "display_name": "Python 3",
      "language": "python",
      "name": "python3"
    },
    "language_info": {
      "codemirror_mode": {
        "name": "ipython",
        "version": 3
      },
      "file_extension": ".py",
      "mimetype": "text/x-python",
      "name": "python",
      "nbconvert_exporter": "python",
      "pygments_lexer": "ipython3",
      "version": "3.7.4"
    }
  },
  "nbformat": 4,
  "nbformat_minor": 0
}