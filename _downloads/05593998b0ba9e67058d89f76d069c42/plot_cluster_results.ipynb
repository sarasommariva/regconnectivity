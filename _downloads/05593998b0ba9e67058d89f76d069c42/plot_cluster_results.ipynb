{
  "cells": [
    {
      "cell_type": "code",
      "execution_count": null,
      "metadata": {
        "collapsed": false
      },
      "outputs": [],
      "source": [
        "%matplotlib inline"
      ]
    },
    {
      "cell_type": "markdown",
      "metadata": {},
      "source": [
        "\n# Reproducing plots of the paper related to the 180,000 simulated MEG data\n\nCode for reproducing the plots that are present in the paper that refer to the\n108,000 simulated MEG sensor level recordings\n"
      ]
    },
    {
      "cell_type": "code",
      "execution_count": null,
      "metadata": {
        "collapsed": false
      },
      "outputs": [],
      "source": [
        "import numpy as np\nimport os.path as op\nimport os\nimport pooch\nimport matplotlib.pyplot as plt\nimport matplotlib.pylab as pylab\n\ntarget = '..'"
      ]
    },
    {
      "cell_type": "markdown",
      "metadata": {},
      "source": [
        "Load results\n\n"
      ]
    },
    {
      "cell_type": "code",
      "execution_count": null,
      "metadata": {
        "collapsed": false
      },
      "outputs": [],
      "source": [
        "data_path = op.join('..', 'data')\nif not op.exists(data_path):\n    os.mkdir(data_path)\n\nfname = 'data_cluster.npy'\nif not op.exists(op.join(data_path, fname)):\n    url = 'https://osf.io/download/auvxz/?direct%26mode=render'\n    pooch.retrieve(url=url, known_hash=None, path=data_path, fname=fname)\n\ndata_cluster = np.load(op.join(data_path, fname), allow_pickle=True).item()\nfeatures = data_cluster['features']\ntested_par = data_cluster['tested_par']\nopt_par = data_cluster['opt_par']\n\nN_mod = features['N_mod']  # Number of simulated AR models (with connections)\nN_act = features['N_act']  # Number of active patches\nN_loc = features['N_loc']  # Number of different connected pairs of locations\nT = features['T']  # Number of time points\npatch_radii = features['patch_radii']  # Patch radius values\narea = [2, 4, 8]\ncoh_levels = features['coh_levels']  # Intracoherence values\nbg_noise_levels = features['bg_noise_levels']  # Background SNR values\nSNR_val = features['SNR_val']  # Sensor SNR values\nN_snr = len(SNR_val)  # Number of sensor SNR levels\nN_lam = len(tested_par)  # Number of tested parameters for connectivity\n# estimation\nN_r = len(patch_radii)  # Number of radius values\nN_c = len(coh_levels)  # Number of intracoherence values\nN_gamma = len(bg_noise_levels)  # Number of background SNR values"
      ]
    },
    {
      "cell_type": "markdown",
      "metadata": {},
      "source": [
        "AUC values as function of the tested regularization parameter lam for the\nfour connectivity metrics. In each panel, barplots and corresponding\nerrorbars represent mean and standard deviation of the AUC values across the\n108, 000 simultations, while the x axis displays the value of the ratio\nbetween lam and the parameter lamX providing the best estimate of the neural\nactivity. The red vertical line highlight when lam = lamX\n\n"
      ]
    },
    {
      "cell_type": "code",
      "execution_count": null,
      "metadata": {
        "collapsed": false
      },
      "outputs": [],
      "source": [
        "# setting the parameters for the plots\nparams = {'legend.fontsize': 14,\n          'lines.linewidth': 3,\n          'figure.figsize': (9, 7),\n          'axes.labelsize': 16,\n          'axes.titlesize': 18,\n          'xtick.labelsize': 10,\n          'ytick.labelsize': 10}\nwidth = 0.8*tested_par  # width of the bars\n\ni_snr = [0, 1, 2, 3]  # sensor SNR to be considered when averaging\naxis = (0, 1, 2, 3, 4, 5)  # axis along with compute the average\n\nfig, ax = plt.subplots(2, 2)\n\nmean_cpsd = -opt_par['conn'][:, :, :, :, :, i_snr, 0, :].mean(axis=axis)\nstd_cpsd = -opt_par['conn'][:, :, :, :, :, i_snr, 0, :].std(axis=axis)\nax[0, 0].bar(tested_par, mean_cpsd, width=width, yerr=std_cpsd)\nax[0, 0].set_ylim([0.4, 1])\nax[0, 0].set_xscale('log')\nax[0, 0].set_title('CPS')\nax[0, 0].set_xlabel(r'$\\lambda/\\lambda_\\mathbf{x}$')\nax[0, 0].set_ylabel('AUC')\nax[0, 0].axvline(1, c='r')\nax[0, 0].grid()\n\n\nmean_imcoh = -opt_par['conn'][:, :, :, :, :, i_snr, 1, :].mean(axis=axis)\nstd_imcoh = -opt_par['conn'][:, :, :, :, :, i_snr, 1, :].std(axis=axis)\nax[0, 1].bar(tested_par, mean_imcoh, width=width, yerr=std_imcoh)\nax[0, 1].set_ylim([0.4, 1])\nax[0, 1].set_xscale('log')\nax[0, 1].set_title('imCOH')\nax[0, 1].set_xlabel(r'$\\lambda/\\lambda_\\mathbf{x}$')\nax[0, 1].set_ylabel('AUC')\nax[0, 1].axvline(1, c='r')\nax[0, 1].grid()\n\n\nmean_ciplv = -opt_par['conn'][:, :, :, :, :, i_snr, 2, :].mean(axis=axis)\nstd_ciplv = -opt_par['conn'][:, :, :, :, :, i_snr, 2, :].std(axis=axis)\nax[1, 0].bar(tested_par, mean_ciplv, width=width, yerr=std_ciplv)\nax[1, 0].set_ylim([0.4, 1])\nax[1, 0].set_xscale('log')\nax[1, 0].set_title('ciPLV')\nax[1, 0].set_xlabel(r'$\\lambda/\\lambda_\\mathbf{x}$')\nax[1, 0].set_ylabel('AUC')\nax[1, 0].axvline(1, c='r')\nax[1, 0].grid()\n\n\nmean_wpli = -opt_par['conn'][:, :, :, :, :, i_snr, 3, :].mean(axis=axis)\nstd_wpli = -opt_par['conn'][:, :, :, :, :, i_snr, 3, :].std(axis=axis)\nax[1, 1].bar(tested_par, mean_wpli, width=width, yerr=std_wpli)\nax[1, 1].set_ylim([0.4, 1])\nax[1, 1].set_xscale('log')\nax[1, 1].set_title('wPLI')\nax[1, 1].set_xlabel(r'$\\lambda/\\lambda_\\mathbf{x}$')\nax[1, 1].set_ylabel('AUC')\nax[1, 1].axvline(1, c='r')\nax[1, 1].grid()\npylab.rcParams.update(params)\nfig.tight_layout()\nfig.show()"
      ]
    },
    {
      "cell_type": "markdown",
      "metadata": {},
      "source": [
        "2D histogram showing the relationship between the optimal regularization\nparameters for different connectivity metrics. In each panel the x-axis shows\nthe value of the optimal parameter for wPLI in logarithmic scale, while the\ny-axis refers to CPS, imCOH and ciPLV, respectively. Notice the different\nscale for the colorbar in each panel.\n\n"
      ]
    },
    {
      "cell_type": "code",
      "execution_count": null,
      "metadata": {
        "collapsed": false
      },
      "outputs": [],
      "source": [
        "params = {'legend.fontsize': 14,\n          'lines.linewidth': 3,\n          'figure.figsize': (10, 4),\n          'axes.labelsize': 16,\n          'axes.titlesize': 18,\n          'xtick.labelsize': 10,\n          'ytick.labelsize': 10}\npylab.rcParams.update(params)\n\nlam_cps = tested_par[np.argmax(-opt_par['conn'][:, :, :, :, :, :, 0, :],\n                     axis=-1)]*opt_par['tc'][:, :, :, :, :, :, 0]\nlam_imcoh = tested_par[np.argmax(-opt_par['conn'][:, :, :, :, :, :, 1, :],\n                       axis=-1)]*opt_par['tc'][:, :, :, :, :, :, 0]\nlam_ciplv = tested_par[np.argmax(-opt_par['conn'][:, :, :, :, :, :, 2, :],\n                       axis=-1)]*opt_par['tc'][:, :, :, :, :, :, 0]\nlam_wpli = tested_par[np.argmax(-opt_par['conn'][:, :, :, :, :, :, 3, :],\n                      axis=-1)]*opt_par['tc'][:, :, :, :, :, :, 0]\n\nfig, ax = plt.subplots(1, 3, tight_layout=True)\nshrink = 0.5\norigin = 'lower'\ncmap = 'jet'\nhist, ybins, xbins = np.histogram2d(np.log10(np.reshape(lam_cps, (-1, ))),\n                                    np.log10(np.reshape(lam_wpli, (-1, ))),\n                                    bins=[np.arange(-3, 5.5, 0.4),\n                                    np.arange(-3, 5.5, 0.4)])\nim1 = ax[0].imshow(hist, extent=[xbins[0], xbins[-1],\n                   ybins[0], ybins[-1]], cmap=cmap, origin=origin)\nfig.colorbar(im1, ax=ax[0], location='right', shrink=shrink)\nax[0].set_xlabel(r'log$_{10}(\\lambda_\\mathbf{wPLI})$')\nax[0].set_ylabel(r'log$_{10}(\\lambda_\\mathbf{CPS})$')\nax[0].set_xticks([-2, 0, 2, 4])\nax[0].set_yticks([-2, 0, 2, 4])\n\n\nhist, ybins, xbins = np.histogram2d(np.log10(np.reshape(lam_imcoh, (-1, ))),\n                                    np.log10(np.reshape(lam_wpli, (-1, ))),\n                                    bins=[np.arange(-3, 5.5, 0.4),\n                                    np.arange(-3, 5.5, 0.4)])\nim2 = ax[1].imshow(hist, extent=[xbins[0], xbins[-1],\n                   ybins[0], ybins[-1]], cmap=cmap, origin=origin)\nfig.colorbar(im2, ax=ax[1], location='right', shrink=shrink)\nax[1].set_xlabel(r'log$_{10}(\\lambda_\\mathbf{wPLI})$')\nax[1].set_ylabel(r'log$_{10}(\\lambda_\\mathbf{imCOH})$')\nax[1].set_xticks([-2, 0, 2, 4])\nax[1].set_yticks([-2, 0, 2, 4])\n\nhist, ybins, xbins = np.histogram2d(np.log10(np.reshape(lam_ciplv, (-1, ))),\n                                    np.log10(np.reshape(lam_wpli, (-1, ))),\n                                    bins=[np.arange(-3, 5.5, 0.4),\n                                    np.arange(-3, 5.5, 0.4)])\nim3 = ax[2].imshow(hist, cmap=cmap, extent=[xbins[0],\n                   xbins[-1], ybins[0], ybins[-1]], origin=origin)\nax[2].set_xlabel(r'log$_{10}(\\lambda_\\mathbf{wPLI})$')\nax[2].set_ylabel(r'log$_{10}(\\lambda_\\mathbf{ciPLV})$')\nax[2].set_xticks([-2, 0, 2, 4])\nax[2].set_yticks([-2, 0, 2, 4])\nfig.colorbar(im3, ax=ax[2], location='right', shrink=shrink)"
      ]
    },
    {
      "cell_type": "markdown",
      "metadata": {},
      "source": [
        "Impact of the measurement noise on the relationship between the optimal\nregularization parameters for different connectivity metrics. Each row refers\nto a different signal-to-noise ratio whose value is reported on top of the\npanels. Each column shows the 2D-histogram for a different pair of\nconnectivity metrics, namely CPS vs wPLI (left column), imCOH vs wPLI (middle\ncolumn), and ciPLV vs wPLI (right column)\n\n"
      ]
    },
    {
      "cell_type": "code",
      "execution_count": null,
      "metadata": {
        "collapsed": false
      },
      "outputs": [],
      "source": [
        "params = {'legend.fontsize': 14,\n          'lines.linewidth': 3,\n          'figure.figsize': (10, 14),\n          'axes.labelsize': 16,\n          'axes.titlesize': 16,\n          'xtick.labelsize': 10,\n          'ytick.labelsize': 10}\npylab.rcParams.update(params)\nfig, ax = plt.subplots(4, 3, tight_layout=True)\n\nshrink = 0.47\norigin = 'lower'\ncmap = 'jet'\n\nfor i_snr in range(N_snr):\n    lam_cps = tested_par[np.argmax(-opt_par['conn'][:, :, :, :, :, i_snr, 0,\n                         :], axis=-1)]*opt_par['tc'][:, :, :, :, :, i_snr, 0]\n    lam_imcoh = tested_par[np.argmax(-opt_par['conn'][:, :, :, :, :, i_snr, 1,\n                           :], axis=-1)]*opt_par['tc'][:, :, :, :, :, i_snr, 0]\n    lam_ciplv = tested_par[np.argmax(-opt_par['conn'][:, :, :, :, :, i_snr, 2,\n                           :], axis=-1)]*opt_par['tc'][:, :, :, :, :, i_snr, 0]\n    lam_wpli = tested_par[np.argmax(-opt_par['conn'][:, :, :, :, :, i_snr, 3,\n                          :], axis=-1)]*opt_par['tc'][:, :, :, :, :, i_snr, 0]\n\n    hist, ybins, xbins = np.histogram2d(np.log10(np.reshape(lam_cps, (-1, ))),\n                                        np.log10(np.reshape(lam_wpli, (-1, ))),\n                                        bins=[np.arange(-3, 5.5, 0.4),\n                                        np.arange(-3, 5.5, 0.4)])\n    im1 = ax[i_snr, 0].imshow(hist, extent=[xbins[0], xbins[-1],\n                              ybins[0], ybins[-1]], cmap=cmap, origin=origin)\n    fig.colorbar(im1, ax=ax[i_snr, 0], location='right', shrink=shrink)\n    ax[i_snr, 0].set_xlabel(r'log$_{10}(\\lambda_\\mathbf{wPLI})$')\n    ax[i_snr, 0].set_title(str(np.round(SNR_val[i_snr], decimals=1))+'dB')\n    ax[i_snr, 0].set_xticks([-2, 0, 2, 4])\n    ax[i_snr, 0].set_yticks([-2, 0, 2, 4])\n    ax[i_snr, 0].set_ylabel(r'log$_{10}(\\lambda_\\mathbf{CPS})$')\n\n    hist, ybins, xbins = np.histogram2d(np.log10(np.reshape(lam_imcoh, (-1, ))),\n                                        np.log10(np.reshape(lam_wpli, (-1, ))),\n                                        bins=[np.arange(-3, 5.5, 0.4),\n                                        np.arange(-3, 5.5, 0.4)])\n    im1 = ax[i_snr, 1].imshow(hist, extent=[xbins[0], xbins[-1],\n                              ybins[0], ybins[-1]], cmap=cmap, origin=origin)\n    fig.colorbar(im1, ax=ax[i_snr, 1], location='right', shrink=shrink)\n    ax[i_snr, 1].set_xlabel(r'log$_{10}(\\lambda_\\mathbf{wPLI})$')\n    ax[i_snr, 1].set_title(str(np.round(SNR_val[i_snr], decimals=1))+'dB')\n    ax[i_snr, 1].set_xticks([-2, 0, 2, 4])\n    ax[i_snr, 1].set_yticks([-2, 0, 2, 4])\n    ax[i_snr, 1].set_ylabel(r'log$_{10}(\\lambda_\\mathbf{imCOH})$')\n\n    hist, ybins, xbins = np.histogram2d(np.log10(np.reshape(lam_ciplv, (-1, ))),\n                                        np.log10(np.reshape(lam_wpli, (-1, ))),\n                                        bins=[np.arange(-3, 5.5, 0.4),\n                                        np.arange(-3, 5.5, 0.4)])\n    im1 = ax[i_snr, 2].imshow(hist, extent=[xbins[0], xbins[-1],\n                              ybins[0], ybins[-1]], cmap=cmap, origin=origin)\n    fig.colorbar(im1, ax=ax[i_snr, 2], location='right', shrink=shrink)\n    ax[i_snr, 2].set_xlabel(r'log$_{10}(\\lambda_\\mathbf{wPLI})$')\n    ax[i_snr, 2].set_title(str(np.round(SNR_val[i_snr], decimals=1))+'dB')\n    ax[i_snr, 2].set_xticks([-2, 0, 2, 4])\n    ax[i_snr, 2].set_yticks([-2, 0, 2, 4])\n    ax[i_snr, 2].set_ylabel(r'log$_{10}(\\lambda_\\mathbf{ciPLV})$')"
      ]
    },
    {
      "cell_type": "markdown",
      "metadata": {},
      "source": [
        "Impact of patch area\n\n"
      ]
    },
    {
      "cell_type": "code",
      "execution_count": null,
      "metadata": {
        "collapsed": false
      },
      "outputs": [],
      "source": [
        "params = {'legend.fontsize': 14,\n          'lines.linewidth': 3,\n          'figure.figsize': (10, 9),\n          'axes.labelsize': 16,\n          'axes.titlesize': 16,\n          'xtick.labelsize': 10,\n          'ytick.labelsize': 10}\n\npylab.rcParams.update(params)\nfig, ax = plt.subplots(3, 3, tight_layout=True)\n\nshrink = 0.78\norigin = 'lower'\ncmap = 'jet'\n\nfor i_r in range(N_r):\n    lam_cps = tested_par[np.argmax(-opt_par['conn'][:, :, i_r, :, :, :, 0,\n                         :], axis=-1)]*opt_par['tc'][:, :, i_r, :, :, :, 0]\n    lam_imcoh = tested_par[np.argmax(-opt_par['conn'][:, :, i_r, :, :, :, 1,\n                           :], axis=-1)]*opt_par['tc'][:, :, i_r, :, :, :, 0]\n    lam_ciplv = tested_par[np.argmax(-opt_par['conn'][:, :, i_r, :, :, :, 2,\n                           :], axis=-1)]*opt_par['tc'][:, :, i_r, :, :, :, 0]\n    lam_wpli = tested_par[np.argmax(-opt_par['conn'][:, :, i_r, :, :, :, 3,\n                          :], axis=-1)]*opt_par['tc'][:, :, i_r, :, :, :, 0]\n\n    hist, ybins, xbins = np.histogram2d(np.log10(np.reshape(lam_cps, (-1, ))),\n                                        np.log10(np.reshape(lam_wpli, (-1, ))),\n                                        bins=[np.arange(-3, 5.5, 0.4),\n                                        np.arange(-3, 5.5, 0.4)])\n    im1 = ax[i_r, 0].imshow(hist, extent=[xbins[0], xbins[-1],\n                            ybins[0], ybins[-1]], cmap=cmap, origin=origin)\n    fig.colorbar(im1, ax=ax[i_r, 0], location='right', shrink=shrink)\n    ax[i_r, 0].set_xlabel(r'log$_{10}(\\lambda_\\mathbf{wPLI})$')\n    ax[i_r, 0].set_title(str(np.round(area[i_r], decimals=1))+r'cm$^2$')\n    ax[i_r, 0].set_xticks([-2, 0, 2, 4])\n    ax[i_r, 0].set_yticks([-2, 0, 2, 4])\n    ax[i_r, 0].set_ylabel(r'log$_{10}(\\lambda_\\mathbf{CPS})$')\n\n    hist, ybins, xbins = np.histogram2d(np.log10(np.reshape(lam_imcoh, (-1, ))),\n                                        np.log10(np.reshape(lam_wpli, (-1, ))),\n                                        bins=[np.arange(-3, 5.5, 0.4),\n                                        np.arange(-3, 5.5, 0.4)])\n    im1 = ax[i_r, 1].imshow(hist, extent=[xbins[0], xbins[-1],\n                            ybins[0], ybins[-1]], cmap=cmap, origin=origin)\n    fig.colorbar(im1, ax=ax[i_r, 1], location='right', shrink=shrink)\n    ax[i_r, 1].set_xlabel(r'log$_{10}(\\lambda_\\mathbf{wPLI})$')\n    ax[i_r, 1].set_title(str(np.round(area[i_r], decimals=1))+r'cm$^2$')\n    ax[i_r, 1].set_xticks([-2, 0, 2, 4])\n    ax[i_r, 1].set_yticks([-2, 0, 2, 4])\n    ax[i_r, 1].set_ylabel(r'log$_{10}(\\lambda_\\mathbf{imCOH})$')\n\n    hist, ybins, xbins = np.histogram2d(np.log10(np.reshape(lam_ciplv, (-1, ))),\n                                        np.log10(np.reshape(lam_wpli, (-1, ))),\n                                        bins=[np.arange(-3, 5.5, 0.4),\n                                        np.arange(-3, 5.5, 0.4)])\n    im1 = ax[i_r, 2].imshow(hist, extent=[xbins[0], xbins[-1],\n                            ybins[0], ybins[-1]], cmap=cmap, origin=origin)\n    fig.colorbar(im1, ax=ax[i_r, 2], location='right', shrink=shrink)\n    ax[i_r, 2].set_xlabel(r'log$_{10}(\\lambda_\\mathbf{wPLI})$')\n    ax[i_r, 2].set_title(str(np.round(area[i_r], decimals=1))+r'cm$^2$')\n    ax[i_r, 2].set_xticks([-2, 0, 2, 4])\n    ax[i_r, 2].set_yticks([-2, 0, 2, 4])\n    ax[i_r, 2].set_ylabel(r'log$_{10}(\\lambda_\\mathbf{ciPLV})$')"
      ]
    },
    {
      "cell_type": "markdown",
      "metadata": {},
      "source": [
        "Impact of intra-patch coherence\n\n"
      ]
    },
    {
      "cell_type": "code",
      "execution_count": null,
      "metadata": {
        "collapsed": false
      },
      "outputs": [],
      "source": [
        "params = {'legend.fontsize': 14,\n          'lines.linewidth': 3,\n          'figure.figsize': (10, 9),\n          'axes.labelsize': 16,\n          'axes.titlesize': 16,\n          'xtick.labelsize': 10,\n          'ytick.labelsize': 10}\npylab.rcParams.update(params)\nfig, ax = plt.subplots(3, 3, tight_layout=True)\n\nshrink = 0.78\norigin = 'lower'\ncmap = 'jet'\n\nfor i_c in range(N_c):\n    lam_cps = tested_par[np.argmax(-opt_par['conn'][:, :, :, i_c, :, :, 0,\n                         :], axis=-1)]*opt_par['tc'][:, :, :, i_c, :, :, 0]\n    lam_imcoh = tested_par[np.argmax(-opt_par['conn'][:, :, :, i_c, :, :, 1,\n                           :], axis=-1)]*opt_par['tc'][:, :, :, i_c, :, :, 0]\n    lam_ciplv = tested_par[np.argmax(-opt_par['conn'][:, :, :, i_c, :, :, 2,\n                           :], axis=-1)]*opt_par['tc'][:, :, :, i_c, :, :, 0]\n    lam_wpli = tested_par[np.argmax(-opt_par['conn'][:, :, :, i_c, :, :, 3,\n                          :], axis=-1)]*opt_par['tc'][:, :, :, i_c, :, :, 0]\n\n    hist, ybins, xbins = np.histogram2d(np.log10(np.reshape(lam_cps, (-1, ))),\n                                        np.log10(np.reshape(lam_wpli, (-1, ))),\n                                        bins=[np.arange(-3, 5.5, 0.4),\n                                        np.arange(-3, 5.5, 0.4)])\n    im1 = ax[i_c, 0].imshow(hist, extent=[xbins[0], xbins[-1],\n                            ybins[0], ybins[-1]], cmap=cmap, origin=origin)\n    fig.colorbar(im1, ax=ax[i_c, 0], location='right', shrink=shrink)\n    ax[i_c, 0].set_xlabel(r'log$_{10}(\\lambda_\\mathbf{wPLI})$')\n    ax[i_c, 0].set_title(str(np.round(coh_levels[i_c], decimals=1)))\n    ax[i_c, 0].set_xticks([-2, 0, 2, 4])\n    ax[i_c, 0].set_yticks([-2, 0, 2, 4])\n    ax[i_c, 0].set_ylabel(r'log$_{10}(\\lambda_\\mathbf{CPS})$')\n\n    hist, ybins, xbins = np.histogram2d(np.log10(np.reshape(lam_imcoh, (-1, ))),\n                                        np.log10(np.reshape(lam_wpli, (-1, ))),\n                                        bins=[np.arange(-3, 5.5, 0.4),\n                                        np.arange(-3, 5.5, 0.4)])\n    im1 = ax[i_c, 1].imshow(hist, extent=[xbins[0], xbins[-1],\n                            ybins[0], ybins[-1]], cmap=cmap, origin=origin)\n    fig.colorbar(im1, ax=ax[i_c, 1], location='right', shrink=shrink)\n    ax[i_c, 1].set_xlabel(r'log$_{10}(\\lambda_\\mathbf{wPLI})$')\n    ax[i_c, 1].set_title(str(np.round(coh_levels[i_c], decimals=1)))\n    ax[i_c, 1].set_xticks([-2, 0, 2, 4])\n    ax[i_c, 1].set_yticks([-2, 0, 2, 4])\n    ax[i_c, 1].set_ylabel(r'log$_{10}(\\lambda_\\mathbf{imCOH})$')\n\n    hist, ybins, xbins = np.histogram2d(np.log10(np.reshape(lam_ciplv, (-1, ))),\n                                        np.log10(np.reshape(lam_wpli, (-1, ))),\n                                        bins=[np.arange(-3, 5.5, 0.4),\n                                        np.arange(-3, 5.5, 0.4)])\n    im1 = ax[i_c, 2].imshow(hist, extent=[xbins[0], xbins[-1],\n                            ybins[0], ybins[-1]], cmap=cmap, origin=origin)\n    fig.colorbar(im1, ax=ax[i_c, 2], location='right', shrink=shrink)\n    ax[i_c, 2].set_xlabel(r'log$_{10}(\\lambda_\\mathbf{wPLI})$')\n    ax[i_c, 2].set_title(str(np.round(coh_levels[i_c], decimals=1)))\n    ax[i_c, 2].set_xticks([-2, 0, 2, 4])\n    ax[i_c, 2].set_yticks([-2, 0, 2, 4])\n    ax[i_c, 2].set_ylabel(r'log$_{10}(\\lambda_\\mathbf{ciPLV})$')"
      ]
    },
    {
      "cell_type": "markdown",
      "metadata": {},
      "source": [
        "Impact of biological background noise.\n\n"
      ]
    },
    {
      "cell_type": "code",
      "execution_count": null,
      "metadata": {
        "collapsed": false
      },
      "outputs": [],
      "source": [
        "params = {'legend.fontsize': 14,\n          'lines.linewidth': 3,\n          'figure.figsize': (10, 9),\n          'axes.labelsize': 16,\n          'axes.titlesize': 16,\n          'xtick.labelsize': 10,\n          'ytick.labelsize': 10}\npylab.rcParams.update(params)\n\nfig, ax = plt.subplots(3, 3, tight_layout=True)\n\nshrink = 0.78\norigin = 'lower'\ncmap = 'jet'\n\nfor i_gamma in range(N_gamma):\n    lam_cps = tested_par[np.argmax(-opt_par['conn'][:, :, :, :, i_gamma, :,\n                         0, :], axis=-1)]*opt_par['tc'][:, :, :, :, i_gamma,\n                                                        :, 0]\n    lam_imcoh = tested_par[np.argmax(-opt_par['conn'][:, :, :, :, i_gamma, :,\n                           1, :], axis=-1)]*opt_par['tc'][:, :, :, :, i_gamma,\n                                                          :, 0]\n    lam_ciplv = tested_par[np.argmax(-opt_par['conn'][:, :, :, :, i_gamma, :,\n                           2, :], axis=-1)]*opt_par['tc'][:, :, :, :, i_gamma,\n                                                          :, 0]\n    lam_wpli = tested_par[np.argmax(-opt_par['conn'][:, :, :, :, i_gamma, :,\n                          3, :], axis=-1)]*opt_par['tc'][:, :, :, :, i_gamma,\n                                                         :, 0]\n\n    hist, ybins, xbins = np.histogram2d(np.log10(np.reshape(lam_cps, (-1, ))),\n                                        np.log10(np.reshape(lam_wpli, (-1, ))),\n                                        bins=[np.arange(-3, 5.5, 0.4),\n                                        np.arange(-3, 5.5, 0.4)])\n    im1 = ax[i_gamma, 0].imshow(hist, extent=[xbins[0], xbins[-1],\n                                ybins[0], ybins[-1]], cmap=cmap, origin=origin)\n    fig.colorbar(im1, ax=ax[i_gamma, 0], location='right', shrink=shrink)\n    ax[i_gamma, 0].set_xlabel(r'log$_{10}(\\lambda_\\mathbf{wPLI})$')\n    ax[i_gamma, 0].set_title(\n        str(np.round(bg_noise_levels[i_gamma], decimals=1)))\n    ax[i_gamma, 0].set_xticks([-2, 0, 2, 4])\n    ax[i_gamma, 0].set_yticks([-2, 0, 2, 4])\n    ax[i_gamma, 0].set_ylabel(r'log$_{10}(\\lambda_\\mathbf{CPS})$')\n\n    hist, ybins, xbins = np.histogram2d(np.log10(np.reshape(lam_imcoh, (-1, ))),\n                                        np.log10(np.reshape(lam_wpli, (-1, ))),\n                                        bins=[np.arange(-3, 5.5, 0.4),\n                                        np.arange(-3, 5.5, 0.4)])\n    im1 = ax[i_gamma, 1].imshow(hist, extent=[xbins[0], xbins[-1],\n                                ybins[0], ybins[-1]], cmap=cmap, origin=origin)\n    fig.colorbar(im1, ax=ax[i_gamma, 1], location='right', shrink=shrink)\n    ax[i_gamma, 1].set_xlabel(r'log$_{10}(\\lambda_\\mathbf{wPLI})$')\n    ax[i_gamma, 1].set_title(\n        str(np.round(bg_noise_levels[i_gamma], decimals=1)))\n    ax[i_gamma, 1].set_xticks([-2, 0, 2, 4])\n    ax[i_gamma, 1].set_yticks([-2, 0, 2, 4])\n    ax[i_gamma, 1].set_ylabel(r'log$_{10}(\\lambda_\\mathbf{imCOH})$')\n\n    hist, ybins, xbins = np.histogram2d(np.log10(np.reshape(lam_ciplv, (-1, ))),\n                                        np.log10(np.reshape(lam_wpli, (-1, ))),\n                                        bins=[np.arange(-3, 5.5, 0.4),\n                                        np.arange(-3, 5.5, 0.4)])\n    im1 = ax[i_gamma, 2].imshow(hist, extent=[xbins[0], xbins[-1],\n                                ybins[0], ybins[-1]], cmap=cmap, origin=origin)\n    fig.colorbar(im1, ax=ax[i_gamma, 2], location='right', shrink=shrink)\n    ax[i_gamma, 2].set_xlabel(r'log$_{10}(\\lambda_\\mathbf{wPLI})$')\n    ax[i_gamma, 2].set_title(\n        str(np.round(bg_noise_levels[i_gamma], decimals=1)))\n    ax[i_gamma, 2].set_xticks([-2, 0, 2, 4])\n    ax[i_gamma, 2].set_yticks([-2, 0, 2, 4])\n    ax[i_gamma, 2].set_ylabel(r'log$_{10}(\\lambda_\\mathbf{ciPLV})$')"
      ]
    }
  ],
  "metadata": {
    "kernelspec": {
      "display_name": "Python 3",
      "language": "python",
      "name": "python3"
    },
    "language_info": {
      "codemirror_mode": {
        "name": "ipython",
        "version": 3
      },
      "file_extension": ".py",
      "mimetype": "text/x-python",
      "name": "python",
      "nbconvert_exporter": "python",
      "pygments_lexer": "ipython3",
      "version": "3.7.4"
    }
  },
  "nbformat": 4,
  "nbformat_minor": 0
}